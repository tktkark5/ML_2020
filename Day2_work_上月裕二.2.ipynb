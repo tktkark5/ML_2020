{
  "nbformat": 4,
  "nbformat_minor": 0,
  "metadata": {
    "kernelspec": {
      "display_name": "Python 3",
      "language": "python",
      "name": "python3"
    },
    "language_info": {
      "codemirror_mode": {
        "name": "ipython",
        "version": 3
      },
      "file_extension": ".py",
      "mimetype": "text/x-python",
      "name": "python",
      "nbconvert_exporter": "python",
      "pygments_lexer": "ipython3",
      "version": "3.7.3"
    },
    "colab": {
      "name": "Day2_work_上月裕二.ipynb",
      "provenance": []
    }
  },
  "cells": [
    {
      "cell_type": "code",
      "metadata": {
        "id": "ZdR2Ur034DZ4"
      },
      "source": [
        "%matplotlib inline\n",
        "import pandas as pd\n",
        "import numpy as np\n",
        "import matplotlib.pyplot as plt\n",
        "from sklearn.linear_model import LinearRegression, SGDClassifier\n",
        "from sklearn.metrics import mean_squared_error, mean_absolute_error # 回帰問題における性能評価に関する関数\n",
        "from sklearn.metrics import log_loss, accuracy_score, precision_recall_fscore_support, confusion_matrix # 回帰問題における性能評価に関する関数\n",
        "import seaborn as sns"
      ],
      "execution_count": 4,
      "outputs": []
    },
    {
      "cell_type": "code",
      "metadata": {
        "id": "K0CJRlAX4DaI"
      },
      "source": [
        "#データ読み込み\n",
        "df_ks = pd.read_csv(\"./ks-projects-201801.csv\")"
      ],
      "execution_count": 14,
      "outputs": []
    },
    {
      "cell_type": "code",
      "metadata": {
        "id": "YNwPKrZ2fN51"
      },
      "source": [
        "from sklearn.feature_selection import RFECV\n",
        "from sklearn.linear_model import LinearRegression"
      ],
      "execution_count": 15,
      "outputs": []
    },
    {
      "cell_type": "code",
      "metadata": {
        "id": "HRukLf4j4Dax",
        "outputId": "24f79fa1-9a64-41fa-e554-9beb6dca7f54",
        "colab": {
          "base_uri": "https://localhost:8080/",
          "height": 1000
        }
      },
      "source": [
        "#データ概要\n",
        "display( df_ks.head() )\n",
        "display( df_ks.describe() )\n",
        "display( df_ks.info() )\n",
        "\n",
        "#各項目の値の種類\n",
        "for key in df_ks:\n",
        "    if 'ID' == key : #or 'name' == key:\n",
        "        continue\n",
        "    display( '<' + key + '>')\n",
        "    display( df_ks[key].value_counts() )"
      ],
      "execution_count": 16,
      "outputs": [
        {
          "output_type": "display_data",
          "data": {
            "text/html": [
              "<div>\n",
              "<style scoped>\n",
              "    .dataframe tbody tr th:only-of-type {\n",
              "        vertical-align: middle;\n",
              "    }\n",
              "\n",
              "    .dataframe tbody tr th {\n",
              "        vertical-align: top;\n",
              "    }\n",
              "\n",
              "    .dataframe thead th {\n",
              "        text-align: right;\n",
              "    }\n",
              "</style>\n",
              "<table border=\"1\" class=\"dataframe\">\n",
              "  <thead>\n",
              "    <tr style=\"text-align: right;\">\n",
              "      <th></th>\n",
              "      <th>ID</th>\n",
              "      <th>name</th>\n",
              "      <th>category</th>\n",
              "      <th>main_category</th>\n",
              "      <th>currency</th>\n",
              "      <th>deadline</th>\n",
              "      <th>goal</th>\n",
              "      <th>launched</th>\n",
              "      <th>pledged</th>\n",
              "      <th>state</th>\n",
              "      <th>backers</th>\n",
              "      <th>country</th>\n",
              "      <th>usd pledged</th>\n",
              "      <th>usd_pledged_real</th>\n",
              "      <th>usd_goal_real</th>\n",
              "    </tr>\n",
              "  </thead>\n",
              "  <tbody>\n",
              "    <tr>\n",
              "      <th>0</th>\n",
              "      <td>1000002330</td>\n",
              "      <td>The Songs of Adelaide &amp; Abullah</td>\n",
              "      <td>Poetry</td>\n",
              "      <td>Publishing</td>\n",
              "      <td>GBP</td>\n",
              "      <td>2015-10-09</td>\n",
              "      <td>1000.0</td>\n",
              "      <td>2015-08-11 12:12:28</td>\n",
              "      <td>0.0</td>\n",
              "      <td>failed</td>\n",
              "      <td>0</td>\n",
              "      <td>GB</td>\n",
              "      <td>0.0</td>\n",
              "      <td>0.0</td>\n",
              "      <td>1533.95</td>\n",
              "    </tr>\n",
              "    <tr>\n",
              "      <th>1</th>\n",
              "      <td>1000003930</td>\n",
              "      <td>Greeting From Earth: ZGAC Arts Capsule For ET</td>\n",
              "      <td>Narrative Film</td>\n",
              "      <td>Film &amp; Video</td>\n",
              "      <td>USD</td>\n",
              "      <td>2017-11-01</td>\n",
              "      <td>30000.0</td>\n",
              "      <td>2017-09-02 04:43:57</td>\n",
              "      <td>2421.0</td>\n",
              "      <td>failed</td>\n",
              "      <td>15</td>\n",
              "      <td>US</td>\n",
              "      <td>100.0</td>\n",
              "      <td>2421.0</td>\n",
              "      <td>30000.00</td>\n",
              "    </tr>\n",
              "    <tr>\n",
              "      <th>2</th>\n",
              "      <td>1000004038</td>\n",
              "      <td>Where is Hank?</td>\n",
              "      <td>Narrative Film</td>\n",
              "      <td>Film &amp; Video</td>\n",
              "      <td>USD</td>\n",
              "      <td>2013-02-26</td>\n",
              "      <td>45000.0</td>\n",
              "      <td>2013-01-12 00:20:50</td>\n",
              "      <td>220.0</td>\n",
              "      <td>failed</td>\n",
              "      <td>3</td>\n",
              "      <td>US</td>\n",
              "      <td>220.0</td>\n",
              "      <td>220.0</td>\n",
              "      <td>45000.00</td>\n",
              "    </tr>\n",
              "    <tr>\n",
              "      <th>3</th>\n",
              "      <td>1000007540</td>\n",
              "      <td>ToshiCapital Rekordz Needs Help to Complete Album</td>\n",
              "      <td>Music</td>\n",
              "      <td>Music</td>\n",
              "      <td>USD</td>\n",
              "      <td>2012-04-16</td>\n",
              "      <td>5000.0</td>\n",
              "      <td>2012-03-17 03:24:11</td>\n",
              "      <td>1.0</td>\n",
              "      <td>failed</td>\n",
              "      <td>1</td>\n",
              "      <td>US</td>\n",
              "      <td>1.0</td>\n",
              "      <td>1.0</td>\n",
              "      <td>5000.00</td>\n",
              "    </tr>\n",
              "    <tr>\n",
              "      <th>4</th>\n",
              "      <td>1000011046</td>\n",
              "      <td>Community Film Project: The Art of Neighborhoo...</td>\n",
              "      <td>Film &amp; Video</td>\n",
              "      <td>Film &amp; Video</td>\n",
              "      <td>USD</td>\n",
              "      <td>2015-08-29</td>\n",
              "      <td>19500.0</td>\n",
              "      <td>2015-07-04 08:35:03</td>\n",
              "      <td>1283.0</td>\n",
              "      <td>canceled</td>\n",
              "      <td>14</td>\n",
              "      <td>US</td>\n",
              "      <td>1283.0</td>\n",
              "      <td>1283.0</td>\n",
              "      <td>19500.00</td>\n",
              "    </tr>\n",
              "  </tbody>\n",
              "</table>\n",
              "</div>"
            ],
            "text/plain": [
              "           ID  ... usd_goal_real\n",
              "0  1000002330  ...       1533.95\n",
              "1  1000003930  ...      30000.00\n",
              "2  1000004038  ...      45000.00\n",
              "3  1000007540  ...       5000.00\n",
              "4  1000011046  ...      19500.00\n",
              "\n",
              "[5 rows x 15 columns]"
            ]
          },
          "metadata": {
            "tags": []
          }
        },
        {
          "output_type": "display_data",
          "data": {
            "text/html": [
              "<div>\n",
              "<style scoped>\n",
              "    .dataframe tbody tr th:only-of-type {\n",
              "        vertical-align: middle;\n",
              "    }\n",
              "\n",
              "    .dataframe tbody tr th {\n",
              "        vertical-align: top;\n",
              "    }\n",
              "\n",
              "    .dataframe thead th {\n",
              "        text-align: right;\n",
              "    }\n",
              "</style>\n",
              "<table border=\"1\" class=\"dataframe\">\n",
              "  <thead>\n",
              "    <tr style=\"text-align: right;\">\n",
              "      <th></th>\n",
              "      <th>ID</th>\n",
              "      <th>goal</th>\n",
              "      <th>pledged</th>\n",
              "      <th>backers</th>\n",
              "      <th>usd pledged</th>\n",
              "      <th>usd_pledged_real</th>\n",
              "      <th>usd_goal_real</th>\n",
              "    </tr>\n",
              "  </thead>\n",
              "  <tbody>\n",
              "    <tr>\n",
              "      <th>count</th>\n",
              "      <td>3.786610e+05</td>\n",
              "      <td>3.786610e+05</td>\n",
              "      <td>3.786610e+05</td>\n",
              "      <td>378661.000000</td>\n",
              "      <td>3.748640e+05</td>\n",
              "      <td>3.786610e+05</td>\n",
              "      <td>3.786610e+05</td>\n",
              "    </tr>\n",
              "    <tr>\n",
              "      <th>mean</th>\n",
              "      <td>1.074731e+09</td>\n",
              "      <td>4.908079e+04</td>\n",
              "      <td>9.682979e+03</td>\n",
              "      <td>105.617476</td>\n",
              "      <td>7.036729e+03</td>\n",
              "      <td>9.058924e+03</td>\n",
              "      <td>4.545440e+04</td>\n",
              "    </tr>\n",
              "    <tr>\n",
              "      <th>std</th>\n",
              "      <td>6.190862e+08</td>\n",
              "      <td>1.183391e+06</td>\n",
              "      <td>9.563601e+04</td>\n",
              "      <td>907.185035</td>\n",
              "      <td>7.863975e+04</td>\n",
              "      <td>9.097334e+04</td>\n",
              "      <td>1.152950e+06</td>\n",
              "    </tr>\n",
              "    <tr>\n",
              "      <th>min</th>\n",
              "      <td>5.971000e+03</td>\n",
              "      <td>1.000000e-02</td>\n",
              "      <td>0.000000e+00</td>\n",
              "      <td>0.000000</td>\n",
              "      <td>0.000000e+00</td>\n",
              "      <td>0.000000e+00</td>\n",
              "      <td>1.000000e-02</td>\n",
              "    </tr>\n",
              "    <tr>\n",
              "      <th>25%</th>\n",
              "      <td>5.382635e+08</td>\n",
              "      <td>2.000000e+03</td>\n",
              "      <td>3.000000e+01</td>\n",
              "      <td>2.000000</td>\n",
              "      <td>1.698000e+01</td>\n",
              "      <td>3.100000e+01</td>\n",
              "      <td>2.000000e+03</td>\n",
              "    </tr>\n",
              "    <tr>\n",
              "      <th>50%</th>\n",
              "      <td>1.075276e+09</td>\n",
              "      <td>5.200000e+03</td>\n",
              "      <td>6.200000e+02</td>\n",
              "      <td>12.000000</td>\n",
              "      <td>3.947200e+02</td>\n",
              "      <td>6.243300e+02</td>\n",
              "      <td>5.500000e+03</td>\n",
              "    </tr>\n",
              "    <tr>\n",
              "      <th>75%</th>\n",
              "      <td>1.610149e+09</td>\n",
              "      <td>1.600000e+04</td>\n",
              "      <td>4.076000e+03</td>\n",
              "      <td>56.000000</td>\n",
              "      <td>3.034090e+03</td>\n",
              "      <td>4.050000e+03</td>\n",
              "      <td>1.550000e+04</td>\n",
              "    </tr>\n",
              "    <tr>\n",
              "      <th>max</th>\n",
              "      <td>2.147476e+09</td>\n",
              "      <td>1.000000e+08</td>\n",
              "      <td>2.033899e+07</td>\n",
              "      <td>219382.000000</td>\n",
              "      <td>2.033899e+07</td>\n",
              "      <td>2.033899e+07</td>\n",
              "      <td>1.663614e+08</td>\n",
              "    </tr>\n",
              "  </tbody>\n",
              "</table>\n",
              "</div>"
            ],
            "text/plain": [
              "                 ID          goal  ...  usd_pledged_real  usd_goal_real\n",
              "count  3.786610e+05  3.786610e+05  ...      3.786610e+05   3.786610e+05\n",
              "mean   1.074731e+09  4.908079e+04  ...      9.058924e+03   4.545440e+04\n",
              "std    6.190862e+08  1.183391e+06  ...      9.097334e+04   1.152950e+06\n",
              "min    5.971000e+03  1.000000e-02  ...      0.000000e+00   1.000000e-02\n",
              "25%    5.382635e+08  2.000000e+03  ...      3.100000e+01   2.000000e+03\n",
              "50%    1.075276e+09  5.200000e+03  ...      6.243300e+02   5.500000e+03\n",
              "75%    1.610149e+09  1.600000e+04  ...      4.050000e+03   1.550000e+04\n",
              "max    2.147476e+09  1.000000e+08  ...      2.033899e+07   1.663614e+08\n",
              "\n",
              "[8 rows x 7 columns]"
            ]
          },
          "metadata": {
            "tags": []
          }
        },
        {
          "output_type": "stream",
          "text": [
            "<class 'pandas.core.frame.DataFrame'>\n",
            "RangeIndex: 378661 entries, 0 to 378660\n",
            "Data columns (total 15 columns):\n",
            " #   Column            Non-Null Count   Dtype  \n",
            "---  ------            --------------   -----  \n",
            " 0   ID                378661 non-null  int64  \n",
            " 1   name              378657 non-null  object \n",
            " 2   category          378661 non-null  object \n",
            " 3   main_category     378661 non-null  object \n",
            " 4   currency          378661 non-null  object \n",
            " 5   deadline          378661 non-null  object \n",
            " 6   goal              378661 non-null  float64\n",
            " 7   launched          378661 non-null  object \n",
            " 8   pledged           378661 non-null  float64\n",
            " 9   state             378661 non-null  object \n",
            " 10  backers           378661 non-null  int64  \n",
            " 11  country           378661 non-null  object \n",
            " 12  usd pledged       374864 non-null  float64\n",
            " 13  usd_pledged_real  378661 non-null  float64\n",
            " 14  usd_goal_real     378661 non-null  float64\n",
            "dtypes: float64(5), int64(2), object(8)\n",
            "memory usage: 43.3+ MB\n"
          ],
          "name": "stdout"
        },
        {
          "output_type": "display_data",
          "data": {
            "text/plain": [
              "None"
            ]
          },
          "metadata": {
            "tags": []
          }
        },
        {
          "output_type": "display_data",
          "data": {
            "application/vnd.google.colaboratory.intrinsic+json": {
              "type": "string"
            },
            "text/plain": [
              "'<name>'"
            ]
          },
          "metadata": {
            "tags": []
          }
        },
        {
          "output_type": "display_data",
          "data": {
            "text/plain": [
              "New EP/Music Development                                       41\n",
              "Canceled (Canceled)                                            13\n",
              "N/A (Canceled)                                                 11\n",
              "Music Video                                                    11\n",
              "Cancelled (Canceled)                                           10\n",
              "                                                               ..\n",
              "Machination: A Game of Evil Genius                              1\n",
              "TransElated: Spreading Peace & Unity Through Fashion            1\n",
              "ATtiny85 ISP!  Shrink your Arduino projects with ease!          1\n",
              "Stanky and Amazing Gracie: Illustrated by Kailey Semmelmann     1\n",
              "On Display                                                      1\n",
              "Name: name, Length: 375764, dtype: int64"
            ]
          },
          "metadata": {
            "tags": []
          }
        },
        {
          "output_type": "display_data",
          "data": {
            "application/vnd.google.colaboratory.intrinsic+json": {
              "type": "string"
            },
            "text/plain": [
              "'<category>'"
            ]
          },
          "metadata": {
            "tags": []
          }
        },
        {
          "output_type": "display_data",
          "data": {
            "text/plain": [
              "Product Design     22314\n",
              "Documentary        16139\n",
              "Music              15727\n",
              "Tabletop Games     14180\n",
              "Shorts             12357\n",
              "                   ...  \n",
              "Residencies           69\n",
              "Letterpress           49\n",
              "Chiptune              35\n",
              "Literary Spaces       27\n",
              "Taxidermy             13\n",
              "Name: category, Length: 159, dtype: int64"
            ]
          },
          "metadata": {
            "tags": []
          }
        },
        {
          "output_type": "display_data",
          "data": {
            "application/vnd.google.colaboratory.intrinsic+json": {
              "type": "string"
            },
            "text/plain": [
              "'<main_category>'"
            ]
          },
          "metadata": {
            "tags": []
          }
        },
        {
          "output_type": "display_data",
          "data": {
            "text/plain": [
              "Film & Video    63585\n",
              "Music           51918\n",
              "Publishing      39874\n",
              "Games           35231\n",
              "Technology      32569\n",
              "Design          30070\n",
              "Art             28153\n",
              "Food            24602\n",
              "Fashion         22816\n",
              "Theater         10913\n",
              "Comics          10819\n",
              "Photography     10779\n",
              "Crafts           8809\n",
              "Journalism       4755\n",
              "Dance            3768\n",
              "Name: main_category, dtype: int64"
            ]
          },
          "metadata": {
            "tags": []
          }
        },
        {
          "output_type": "display_data",
          "data": {
            "application/vnd.google.colaboratory.intrinsic+json": {
              "type": "string"
            },
            "text/plain": [
              "'<currency>'"
            ]
          },
          "metadata": {
            "tags": []
          }
        },
        {
          "output_type": "display_data",
          "data": {
            "text/plain": [
              "USD    295365\n",
              "GBP     34132\n",
              "EUR     17405\n",
              "CAD     14962\n",
              "AUD      7950\n",
              "SEK      1788\n",
              "MXN      1752\n",
              "NZD      1475\n",
              "DKK      1129\n",
              "CHF       768\n",
              "NOK       722\n",
              "HKD       618\n",
              "SGD       555\n",
              "JPY        40\n",
              "Name: currency, dtype: int64"
            ]
          },
          "metadata": {
            "tags": []
          }
        },
        {
          "output_type": "display_data",
          "data": {
            "application/vnd.google.colaboratory.intrinsic+json": {
              "type": "string"
            },
            "text/plain": [
              "'<deadline>'"
            ]
          },
          "metadata": {
            "tags": []
          }
        },
        {
          "output_type": "display_data",
          "data": {
            "text/plain": [
              "2014-08-08    705\n",
              "2014-08-10    558\n",
              "2014-08-07    541\n",
              "2015-05-01    489\n",
              "2014-08-09    477\n",
              "             ... \n",
              "2010-02-19      1\n",
              "2009-06-20      1\n",
              "2009-08-03      1\n",
              "2009-08-18      1\n",
              "2009-09-23      1\n",
              "Name: deadline, Length: 3164, dtype: int64"
            ]
          },
          "metadata": {
            "tags": []
          }
        },
        {
          "output_type": "display_data",
          "data": {
            "application/vnd.google.colaboratory.intrinsic+json": {
              "type": "string"
            },
            "text/plain": [
              "'<goal>'"
            ]
          },
          "metadata": {
            "tags": []
          }
        },
        {
          "output_type": "display_data",
          "data": {
            "text/plain": [
              "5000.0     29779\n",
              "10000.0    26029\n",
              "1000.0     16950\n",
              "3000.0     15743\n",
              "2000.0     15257\n",
              "           ...  \n",
              "2981.0         1\n",
              "728.0          1\n",
              "9064.0         1\n",
              "18350.0        1\n",
              "15780.0        1\n",
              "Name: goal, Length: 8353, dtype: int64"
            ]
          },
          "metadata": {
            "tags": []
          }
        },
        {
          "output_type": "display_data",
          "data": {
            "application/vnd.google.colaboratory.intrinsic+json": {
              "type": "string"
            },
            "text/plain": [
              "'<launched>'"
            ]
          },
          "metadata": {
            "tags": []
          }
        },
        {
          "output_type": "display_data",
          "data": {
            "text/plain": [
              "1970-01-01 01:00:00    7\n",
              "2016-12-21 17:38:09    2\n",
              "2014-03-18 00:18:10    2\n",
              "2014-06-26 19:10:03    2\n",
              "2015-06-15 08:31:14    2\n",
              "                      ..\n",
              "2010-06-25 19:27:35    1\n",
              "2014-02-19 21:27:24    1\n",
              "2012-09-13 22:29:26    1\n",
              "2013-04-19 02:42:19    1\n",
              "2015-05-19 20:33:42    1\n",
              "Name: launched, Length: 378089, dtype: int64"
            ]
          },
          "metadata": {
            "tags": []
          }
        },
        {
          "output_type": "display_data",
          "data": {
            "application/vnd.google.colaboratory.intrinsic+json": {
              "type": "string"
            },
            "text/plain": [
              "'<pledged>'"
            ]
          },
          "metadata": {
            "tags": []
          }
        },
        {
          "output_type": "display_data",
          "data": {
            "text/plain": [
              "0.00         52527\n",
              "1.00          9195\n",
              "10.00         5034\n",
              "25.00         3994\n",
              "50.00         3626\n",
              "             ...  \n",
              "303.57           1\n",
              "189983.12        1\n",
              "7211.70          1\n",
              "5305.69          1\n",
              "3026.75          1\n",
              "Name: pledged, Length: 62130, dtype: int64"
            ]
          },
          "metadata": {
            "tags": []
          }
        },
        {
          "output_type": "display_data",
          "data": {
            "application/vnd.google.colaboratory.intrinsic+json": {
              "type": "string"
            },
            "text/plain": [
              "'<state>'"
            ]
          },
          "metadata": {
            "tags": []
          }
        },
        {
          "output_type": "display_data",
          "data": {
            "text/plain": [
              "failed        197719\n",
              "successful    133956\n",
              "canceled       38779\n",
              "undefined       3562\n",
              "live            2799\n",
              "suspended       1846\n",
              "Name: state, dtype: int64"
            ]
          },
          "metadata": {
            "tags": []
          }
        },
        {
          "output_type": "display_data",
          "data": {
            "application/vnd.google.colaboratory.intrinsic+json": {
              "type": "string"
            },
            "text/plain": [
              "'<backers>'"
            ]
          },
          "metadata": {
            "tags": []
          }
        },
        {
          "output_type": "display_data",
          "data": {
            "text/plain": [
              "0        55609\n",
              "1        34869\n",
              "2        23196\n",
              "3        16063\n",
              "4        12068\n",
              "         ...  \n",
              "2691         1\n",
              "3712         1\n",
              "3456         1\n",
              "74405        1\n",
              "2047         1\n",
              "Name: backers, Length: 3963, dtype: int64"
            ]
          },
          "metadata": {
            "tags": []
          }
        },
        {
          "output_type": "display_data",
          "data": {
            "application/vnd.google.colaboratory.intrinsic+json": {
              "type": "string"
            },
            "text/plain": [
              "'<country>'"
            ]
          },
          "metadata": {
            "tags": []
          }
        },
        {
          "output_type": "display_data",
          "data": {
            "text/plain": [
              "US      292627\n",
              "GB       33672\n",
              "CA       14756\n",
              "AU        7839\n",
              "DE        4171\n",
              "N,0\"      3797\n",
              "FR        2939\n",
              "IT        2878\n",
              "NL        2868\n",
              "ES        2276\n",
              "SE        1757\n",
              "MX        1752\n",
              "NZ        1447\n",
              "DK        1113\n",
              "IE         811\n",
              "CH         761\n",
              "NO         708\n",
              "HK         618\n",
              "BE         617\n",
              "AT         597\n",
              "SG         555\n",
              "LU          62\n",
              "JP          40\n",
              "Name: country, dtype: int64"
            ]
          },
          "metadata": {
            "tags": []
          }
        },
        {
          "output_type": "display_data",
          "data": {
            "application/vnd.google.colaboratory.intrinsic+json": {
              "type": "string"
            },
            "text/plain": [
              "'<usd pledged>'"
            ]
          },
          "metadata": {
            "tags": []
          }
        },
        {
          "output_type": "display_data",
          "data": {
            "text/plain": [
              "0.00        68112\n",
              "1.00         5341\n",
              "25.00        3877\n",
              "10.00        3624\n",
              "50.00        3141\n",
              "            ...  \n",
              "10315.88        1\n",
              "1615.79         1\n",
              "13251.25        1\n",
              "165.94          1\n",
              "2205.64         1\n",
              "Name: usd pledged, Length: 95455, dtype: int64"
            ]
          },
          "metadata": {
            "tags": []
          }
        },
        {
          "output_type": "display_data",
          "data": {
            "application/vnd.google.colaboratory.intrinsic+json": {
              "type": "string"
            },
            "text/plain": [
              "'<usd_pledged_real>'"
            ]
          },
          "metadata": {
            "tags": []
          }
        },
        {
          "output_type": "display_data",
          "data": {
            "text/plain": [
              "0.00         52527\n",
              "1.00          6678\n",
              "10.00         3633\n",
              "25.00         3455\n",
              "50.00         2937\n",
              "             ...  \n",
              "103748.00        1\n",
              "286892.62        1\n",
              "27235.69         1\n",
              "10756.22         1\n",
              "3575.02          1\n",
              "Name: usd_pledged_real, Length: 106065, dtype: int64"
            ]
          },
          "metadata": {
            "tags": []
          }
        },
        {
          "output_type": "display_data",
          "data": {
            "application/vnd.google.colaboratory.intrinsic+json": {
              "type": "string"
            },
            "text/plain": [
              "'<usd_goal_real>'"
            ]
          },
          "metadata": {
            "tags": []
          }
        },
        {
          "output_type": "display_data",
          "data": {
            "text/plain": [
              "5000.00      24173\n",
              "10000.00     20786\n",
              "1000.00      13029\n",
              "3000.00      12699\n",
              "2000.00      11915\n",
              "             ...  \n",
              "6561.57          1\n",
              "12346.25         1\n",
              "2392.95          1\n",
              "1757.91          1\n",
              "781250.00        1\n",
              "Name: usd_goal_real, Length: 50339, dtype: int64"
            ]
          },
          "metadata": {
            "tags": []
          }
        }
      ]
    },
    {
      "cell_type": "code",
      "metadata": {
        "id": "Ox6yPBLxp6iZ"
      },
      "source": [
        "def my_str_len(aName):\n",
        "  return len(str(aName))\n",
        "\n",
        "#display( df_ks[\"name\"][0:10])\n",
        "#display( type( df_ks[\"name\"][0] ) )\n",
        "df_ks[\"name_len\"] = df_ks[\"name\"].apply(my_str_len)\n",
        "df_ks[\"cate_len\"] = df_ks[\"category\"].apply(my_str_len)\n"
      ],
      "execution_count": 17,
      "outputs": []
    },
    {
      "cell_type": "code",
      "metadata": {
        "id": "zqf8T_M_v6N7",
        "outputId": "1ca8ecca-9e3d-4d5c-862c-dd23bc4b47ca",
        "colab": {
          "base_uri": "https://localhost:8080/",
          "height": 255
        }
      },
      "source": [
        "import datetime\n",
        "\n",
        "def rested_days(row):\n",
        "  return ( row[\"deadline\"] - row[\"launched\"] ).days\n",
        "\n",
        "df_ks[\"launched\"] = df_ks[\"launched\"].apply(pd.to_datetime)\n",
        "df_ks[\"deadline\"] = df_ks[\"deadline\"].apply(pd.to_datetime)\n",
        "df_ks[\"rested_day\"] = df_ks.apply(rested_days, axis=1)\n",
        "display( df_ks.head )"
      ],
      "execution_count": 18,
      "outputs": [
        {
          "output_type": "display_data",
          "data": {
            "text/plain": [
              "<bound method NDFrame.head of                 ID  ... rested_day\n",
              "0       1000002330  ...         58\n",
              "1       1000003930  ...         59\n",
              "2       1000004038  ...         44\n",
              "3       1000007540  ...         29\n",
              "4       1000011046  ...         55\n",
              "...            ...  ...        ...\n",
              "378656   999976400  ...         29\n",
              "378657   999977640  ...         26\n",
              "378658   999986353  ...         45\n",
              "378659   999987933  ...         30\n",
              "378660   999988282  ...         27\n",
              "\n",
              "[378661 rows x 18 columns]>"
            ]
          },
          "metadata": {
            "tags": []
          }
        }
      ]
    },
    {
      "cell_type": "code",
      "metadata": {
        "id": "XKJ1NXvp5Q5O",
        "outputId": "54fb6c04-60f3-4afd-8688-129f28072986",
        "colab": {
          "base_uri": "https://localhost:8080/",
          "height": 622
        }
      },
      "source": [
        "pd.plotting.scatter_matrix(df_ks[[\"state\", \"rested_day\", \"name_len\", \"cate_len\"]], figsize=(10,10))\n",
        "#pd.plotting.scatter_matrix(df_ks, figsize=(10,10))\n",
        "plt.show()\n"
      ],
      "execution_count": 19,
      "outputs": [
        {
          "output_type": "display_data",
          "data": {
            "image/png": "[encoded data removed]",
            "text/plain": [
              "<Figure size 720x720 with 9 Axes>"
            ]
          },
          "metadata": {
            "tags": [],
            "needs_background": "light"
          }
        }
      ]
    },
    {
      "cell_type": "code",
      "metadata": {
        "id": "YNM0zlLN57Zs",
        "outputId": "0b13f62a-fc87-41ea-f569-67b114b1627d",
        "colab": {
          "base_uri": "https://localhost:8080/",
          "height": 270
        }
      },
      "source": [
        "# 相関係数をヒートマップにして可視化\n",
        "sns.heatmap(df_ks[[\"state\", \"rested_day\", \"name_len\", \"cate_len\"]].corr())\n",
        "plt.show()"
      ],
      "execution_count": 20,
      "outputs": [
        {
          "output_type": "display_data",
          "data": {
            "image/png": "[encoded data removed]",
            "text/plain": [
              "<Figure size 432x288 with 2 Axes>"
            ]
          },
          "metadata": {
            "tags": [],
            "needs_background": "light"
          }
        }
      ]
    },
    {
      "cell_type": "code",
      "metadata": {
        "id": "X_eaMY2p4DbD",
        "outputId": "5f9e0473-5d8c-475f-e680-710f55e42d31",
        "colab": {
          "base_uri": "https://localhost:8080/",
          "height": 697
        }
      },
      "source": [
        "# 欠損値を含むレコードを削除\n",
        "print( '◆欠損値を含むレコード（削除前）' )\n",
        "print( df_ks.isnull().sum() )\n",
        "df_ks = df_ks.dropna()\n",
        "print( '◆欠損値を含むレコード（削除後）' )\n",
        "print( df_ks.isnull().sum() )"
      ],
      "execution_count": 21,
      "outputs": [
        {
          "output_type": "stream",
          "text": [
            "◆欠損値を含むレコード（削除前）\n",
            "ID                     0\n",
            "name                   4\n",
            "category               0\n",
            "main_category          0\n",
            "currency               0\n",
            "deadline               0\n",
            "goal                   0\n",
            "launched               0\n",
            "pledged                0\n",
            "state                  0\n",
            "backers                0\n",
            "country                0\n",
            "usd pledged         3797\n",
            "usd_pledged_real       0\n",
            "usd_goal_real          0\n",
            "name_len               0\n",
            "cate_len               0\n",
            "rested_day             0\n",
            "dtype: int64\n",
            "◆欠損値を含むレコード（削除後）\n",
            "ID                  0\n",
            "name                0\n",
            "category            0\n",
            "main_category       0\n",
            "currency            0\n",
            "deadline            0\n",
            "goal                0\n",
            "launched            0\n",
            "pledged             0\n",
            "state               0\n",
            "backers             0\n",
            "country             0\n",
            "usd pledged         0\n",
            "usd_pledged_real    0\n",
            "usd_goal_real       0\n",
            "name_len            0\n",
            "cate_len            0\n",
            "rested_day          0\n",
            "dtype: int64\n"
          ],
          "name": "stdout"
        }
      ]
    },
    {
      "cell_type": "code",
      "metadata": {
        "id": "xYhz88iB4DbP",
        "outputId": "22d23826-bf3c-4e75-fb07-dc520593fa31",
        "colab": {
          "base_uri": "https://localhost:8080/",
          "height": 170
        }
      },
      "source": [
        "# 'state' の値を failed->False, successful ->True に置き換える\n",
        "display( df_ks['state'].value_counts() )\n",
        "df_ks.loc[ df_ks['state'] == 'failed', 'state'] = 0\n",
        "df_ks.loc[ df_ks['state'] == 'successful', 'state'] = 1\n",
        "\n",
        "# 'state' の値が False, True いずれでもない行は削除する\n",
        "drop_index = df_ks.index[ ( df_ks['state'] != 0 ) & ( df_ks['state'] != 1 ) ]\n",
        "df_ks = df_ks.drop( drop_index )\n",
        "display( df_ks['state'].value_counts() )"
      ],
      "execution_count": 22,
      "outputs": [
        {
          "output_type": "display_data",
          "data": {
            "text/plain": [
              "failed        197611\n",
              "successful    133851\n",
              "canceled       38757\n",
              "live            2798\n",
              "suspended       1843\n",
              "Name: state, dtype: int64"
            ]
          },
          "metadata": {
            "tags": []
          }
        },
        {
          "output_type": "display_data",
          "data": {
            "text/plain": [
              "0    197611\n",
              "1    133851\n",
              "Name: state, dtype: int64"
            ]
          },
          "metadata": {
            "tags": []
          }
        }
      ]
    },
    {
      "cell_type": "code",
      "metadata": {
        "id": "07WXovcNglNx",
        "outputId": "ab541a03-52de-4f13-8c28-b8d9b1605873",
        "colab": {
          "base_uri": "https://localhost:8080/",
          "height": 204
        }
      },
      "source": [
        "# estimatorにモデルをセット\n",
        "# 今回は回帰問題であるためLinearRegressionを使用\n",
        "#estimator = LinearRegression(normalize=False)\n",
        "X = df_ks[['rested_day', 'name_len', 'cate_len']]\n",
        "y = df_ks['state'].values.astype('int')\n",
        "estimator = SGDClassifier(loss='log', penalty='none', max_iter=10000, fit_intercept=True, random_state=1234, tol=1e-3)\n",
        "\n",
        "# RFECVは交差検証によってステップワイズ法による特徴選択を行う\n",
        "# cvにはFold（=グループ）の数，scoringには評価指標を指定する\n",
        "# 今回は回帰なのでneg_mean_absolute_errorを評価指標に指定（分類ならaccuracy）\n",
        "rfecv = RFECV(estimator, cv=10, scoring='accuracy')\n",
        "\n",
        "# fitで特徴選択を実行\n",
        "rfecv.fit(X, y)"
      ],
      "execution_count": 23,
      "outputs": [
        {
          "output_type": "execute_result",
          "data": {
            "text/plain": [
              "RFECV(cv=10,\n",
              "      estimator=SGDClassifier(alpha=0.0001, average=False, class_weight=None,\n",
              "                              early_stopping=False, epsilon=0.1, eta0=0.0,\n",
              "                              fit_intercept=True, l1_ratio=0.15,\n",
              "                              learning_rate='optimal', loss='log',\n",
              "                              max_iter=10000, n_iter_no_change=5, n_jobs=None,\n",
              "                              penalty='none', power_t=0.5, random_state=1234,\n",
              "                              shuffle=True, tol=0.001, validation_fraction=0.1,\n",
              "                              verbose=0, warm_start=False),\n",
              "      min_features_to_select=1, n_jobs=None, scoring='accuracy', step=1,\n",
              "      verbose=0)"
            ]
          },
          "metadata": {
            "tags": []
          },
          "execution_count": 23
        }
      ]
    },
    {
      "cell_type": "code",
      "metadata": {
        "id": "Pn9ELYTwnj0q",
        "outputId": "62740ae2-65da-4edc-8137-03c362d2726c",
        "colab": {
          "base_uri": "https://localhost:8080/",
          "height": 51
        }
      },
      "source": [
        "# 特徴のランキングを表示（1が最も重要な特徴）\n",
        "print('Feature ranking: \\n{}'.format(rfecv.ranking_))"
      ],
      "execution_count": 24,
      "outputs": [
        {
          "output_type": "stream",
          "text": [
            "Feature ranking: \n",
            "[2 3 1]\n"
          ],
          "name": "stdout"
        }
      ]
    },
    {
      "cell_type": "code",
      "metadata": {
        "id": "tHpRZulN4Dbr",
        "outputId": "7fb32eb8-0daf-4ccc-ac9c-cb045afc56be"
      },
      "source": [
        "# backers と usd pledged を説明変数として、state を目的変数として学習\n",
        "X = df_ks[['backers', 'usd pledged']].values\n",
        "y = df_ks['state'].values\n",
        "clf = SGDClassifier(loss='log', penalty='none', max_iter=10000, fit_intercept=True, random_state=1234, tol=1e-3)\n",
        "clf.fit(X, y)\n",
        "\n",
        "# 重み付けの出力\n",
        "w0 = clf.intercept_[0]\n",
        "w1 = clf.coef_[0, 0]\n",
        "w2 = clf.coef_[0, 1]\n",
        "print(\"w0 = {:.3f}, w1 = {:.3f}, w2 = {:.3f}\".format(w0, w1, w2))"
      ],
      "execution_count": null,
      "outputs": [
        {
          "output_type": "stream",
          "text": [
            "w0 = -26845.522, w1 = 339.349, w2 = 7.304\n"
          ],
          "name": "stdout"
        }
      ]
    },
    {
      "cell_type": "code",
      "metadata": {
        "id": "w9DRGp7D4Db0",
        "outputId": "7887bede-0370-4bb4-fe23-fddbf44c2d38"
      },
      "source": [
        "# 予測\n",
        "y_est = clf.predict(X)\n",
        "\n",
        "# 対数尤度を表示\n",
        "print('対数尤度 = {:.3f}'.format(- log_loss(y, y_est)))\n",
        "\n",
        "# 正答率を表示\n",
        "print('正答率 = {:.3f}%'.format(100 * accuracy_score(y, y_est)))\n",
        "\n",
        "# Precision, Recall, F1-scoreを計算\n",
        "precision, recall, f1_score, _ = precision_recall_fscore_support(y, y_est)\n",
        "\n",
        "# Precision, Recall, F1-scoreを表示\n",
        "print('適合率（Precision） = {:.3f}%'.format(100 * precision[1]))\n",
        "print('再現率（Recall） = {:.3f}%'.format(100 * recall[1]))\n",
        "print('F1値（F1-score） = {:.3f}%'.format(100 * f1_score[1]))"
      ],
      "execution_count": null,
      "outputs": [
        {
          "output_type": "stream",
          "text": [
            "対数尤度 = -6.191\n",
            "正答率 = 82.075%\n",
            "適合率（Precision） = 81.643%\n",
            "再現率（Recall） = 71.742%\n",
            "F1値（F1-score） = 76.373%\n"
          ],
          "name": "stdout"
        }
      ]
    },
    {
      "cell_type": "code",
      "metadata": {
        "id": "oMq3RzMY4DcH",
        "outputId": "ff53b54b-d29f-4ae3-b87c-a5fff9a014b0"
      },
      "source": [
        "# 予測値と正解のクロス集計\n",
        "conf_mat = pd.DataFrame(confusion_matrix(y, y_est), index=['正解 = 0', '正解 = 1'], columns=['予測値 = 0', '予測値 = 1'])\n",
        "conf_mat"
      ],
      "execution_count": null,
      "outputs": [
        {
          "output_type": "execute_result",
          "data": {
            "text/html": [
              "<div>\n",
              "<style scoped>\n",
              "    .dataframe tbody tr th:only-of-type {\n",
              "        vertical-align: middle;\n",
              "    }\n",
              "\n",
              "    .dataframe tbody tr th {\n",
              "        vertical-align: top;\n",
              "    }\n",
              "\n",
              "    .dataframe thead th {\n",
              "        text-align: right;\n",
              "    }\n",
              "</style>\n",
              "<table border=\"1\" class=\"dataframe\">\n",
              "  <thead>\n",
              "    <tr style=\"text-align: right;\">\n",
              "      <th></th>\n",
              "      <th>予測値 = 0</th>\n",
              "      <th>予測値 = 1</th>\n",
              "    </tr>\n",
              "  </thead>\n",
              "  <tbody>\n",
              "    <tr>\n",
              "      <th>正解 = 0</th>\n",
              "      <td>176020</td>\n",
              "      <td>21591</td>\n",
              "    </tr>\n",
              "    <tr>\n",
              "      <th>正解 = 1</th>\n",
              "      <td>37824</td>\n",
              "      <td>96027</td>\n",
              "    </tr>\n",
              "  </tbody>\n",
              "</table>\n",
              "</div>"
            ],
            "text/plain": [
              "        予測値 = 0  予測値 = 1\n",
              "正解 = 0   176020    21591\n",
              "正解 = 1    37824    96027"
            ]
          },
          "metadata": {
            "tags": []
          },
          "execution_count": 94
        }
      ]
    },
    {
      "cell_type": "code",
      "metadata": {
        "id": "g07Vl7j-4DcR"
      },
      "source": [
        ""
      ],
      "execution_count": null,
      "outputs": []
    }
  ]
}