{
  "nbformat": 4,
  "nbformat_minor": 0,
  "metadata": {
    "kernelspec": {
      "display_name": "Python 3",
      "language": "python",
      "name": "python3"
    },
    "language_info": {
      "codemirror_mode": {
        "name": "ipython",
        "version": 3
      },
      "file_extension": ".py",
      "mimetype": "text/x-python",
      "name": "python",
      "nbconvert_exporter": "python",
      "pygments_lexer": "ipython3",
      "version": "3.7.3"
    },
    "colab": {
      "name": "Day3_work_上月裕二.ipynb",
      "provenance": []
    }
  },
  "cells": [
    {
      "cell_type": "code",
      "metadata": {
        "id": "ZdR2Ur034DZ4"
      },
      "source": [
        "%matplotlib inline\n",
        "import datetime\n",
        "import pandas as pd\n",
        "import numpy as np\n",
        "import matplotlib.pyplot as plt\n",
        "import seaborn as sns\n",
        "from sklearn.linear_model import LinearRegression, SGDClassifier\n",
        "from sklearn.metrics import mean_squared_error, mean_absolute_error # 回帰問題における性能評価に関する関数\n",
        "from sklearn.metrics import log_loss, accuracy_score, precision_recall_fscore_support, confusion_matrix # 回帰問題における性能評価に関する関数\n",
        "from sklearn.feature_selection import RFECV\n",
        "from sklearn.model_selection import train_test_split, GridSearchCV # ホールドアウト法に関する関数\n",
        "from sklearn.model_selection import KFold # 交差検証法に関する関数\n",
        "from sklearn.preprocessing import StandardScaler, MinMaxScaler\n",
        "from sklearn.svm import SVC\n",
        "from sklearn.ensemble import RandomForestClassifier\n",
        "from sklearn.ensemble import AdaBoostClassifier\n",
        "from sklearn.tree import DecisionTreeClassifier"
      ],
      "execution_count": 1,
      "outputs": []
    },
    {
      "cell_type": "code",
      "metadata": {
        "id": "Tk5yTa27aJrp"
      },
      "source": [
        "# 共通関数っぽいもの\n",
        "\n",
        "# ヒストグラムと出現回数\n",
        "def hist_count( explanation, target_df):\n",
        "  print(\"◆--- <\", explanation, \"> の出現頻度 ---◆\" )\n",
        "  target_df.hist()\n",
        "  plt.show()\n",
        "  print(\"\")\n",
        "  print( target_df.value_counts(sort=False) )\n",
        "  print(\"◇----------◇\")\n",
        "  print(\"\")\n",
        "\n",
        "# DataFrame.info() の出力\n",
        "def display_info( explanation, target_df ):\n",
        "  print(\"◆--- <\", explanation, \" > ---◆\" )\n",
        "  print( target_df.info() )\n",
        "  print(\"◇----------◇\")\n",
        "  print(\"\")\n",
        "\n",
        "# ndarray.info() の出力\n",
        "def display_shape( explanation, target_array ):\n",
        "  print(\"◆--- <\", explanation, \" > ---◆\" )\n",
        "  print( target_array.shape )\n",
        "  print(\"◇----------◇\")\n",
        "  print(\"\")"
      ],
      "execution_count": 2,
      "outputs": []
    },
    {
      "cell_type": "code",
      "metadata": {
        "id": "YGoIR6jwuV73",
        "outputId": "b7cb0aeb-09db-4f52-e7dc-f4d832cf7807",
        "colab": {
          "base_uri": "https://localhost:8080/",
          "height": 562
        }
      },
      "source": [
        "# csv の読み込み\n",
        "df = pd.read_csv(\"./ks-projects-201801.csv\")\n",
        "display_info( \"csv 読み上げ直後の df.info()\", df )\n",
        "\n",
        "# 目的変数となる 'state' 列が、'failed' or 'successful' の行のみを抽出し、'state'の値をboolに変換\n",
        "df = df[df['state'].isin(['failed','successful'])]\n",
        "#df[\"state\"] = df[\"state\"]==\"successful\"\n",
        "df.loc[ df['state'] == 'failed', 'state'] = 0\n",
        "df.loc[ df['state'] == 'successful', 'state'] = 1\n",
        "\n",
        "# リークにならないよう参照不可の列と、IDを削除\n",
        "df.drop( ['ID', 'backers', 'pledged', 'usd pledged', 'usd_pledged_real'], axis=1, inplace=True )\n",
        "#display_info( \"参照不可列の削除後の df.info()\", df )\n",
        "'''\n",
        "  Int64Index: 331675 entries, 0 to 378660\n",
        "  Data columns (total 10 columns):\n",
        "  #   Column         Non-Null Count   Dtype  \n",
        "  ---  ------         --------------   -----  \n",
        "  0   name           331672 non-null  object \n",
        "  1   category       331675 non-null  object \n",
        "  2   main_category  331675 non-null  object \n",
        "  3   currency       331675 non-null  object \n",
        "  4   deadline       331675 non-null  object \n",
        "  5   goal           331675 non-null  float64\n",
        "  6   launched       331675 non-null  object \n",
        "  7   state          331675 non-null  bool   \n",
        "  8   country        331675 non-null  object \n",
        "  9   usd_goal_real  331675 non-null  float64\n",
        "  dtypes: bool(1), float64(2), object(7)\n",
        "'''\n"
      ],
      "execution_count": 3,
      "outputs": [
        {
          "output_type": "stream",
          "text": [
            "◆--- < csv 読み上げ直後の df.info()  > ---◆\n",
            "<class 'pandas.core.frame.DataFrame'>\n",
            "RangeIndex: 378661 entries, 0 to 378660\n",
            "Data columns (total 15 columns):\n",
            " #   Column            Non-Null Count   Dtype  \n",
            "---  ------            --------------   -----  \n",
            " 0   ID                378661 non-null  int64  \n",
            " 1   name              378657 non-null  object \n",
            " 2   category          378661 non-null  object \n",
            " 3   main_category     378661 non-null  object \n",
            " 4   currency          378661 non-null  object \n",
            " 5   deadline          378661 non-null  object \n",
            " 6   goal              378661 non-null  float64\n",
            " 7   launched          378661 non-null  object \n",
            " 8   pledged           378661 non-null  float64\n",
            " 9   state             378661 non-null  object \n",
            " 10  backers           378661 non-null  int64  \n",
            " 11  country           378661 non-null  object \n",
            " 12  usd pledged       374864 non-null  float64\n",
            " 13  usd_pledged_real  378661 non-null  float64\n",
            " 14  usd_goal_real     378661 non-null  float64\n",
            "dtypes: float64(5), int64(2), object(8)\n",
            "memory usage: 43.3+ MB\n",
            "None\n",
            "◇----------◇\n",
            "\n"
          ],
          "name": "stdout"
        },
        {
          "output_type": "execute_result",
          "data": {
            "application/vnd.google.colaboratory.intrinsic+json": {
              "type": "string"
            },
            "text/plain": [
              "'\\n  Int64Index: 331675 entries, 0 to 378660\\n  Data columns (total 10 columns):\\n  #   Column         Non-Null Count   Dtype  \\n  ---  ------         --------------   -----  \\n  0   name           331672 non-null  object \\n  1   category       331675 non-null  object \\n  2   main_category  331675 non-null  object \\n  3   currency       331675 non-null  object \\n  4   deadline       331675 non-null  object \\n  5   goal           331675 non-null  float64\\n  6   launched       331675 non-null  object \\n  7   state          331675 non-null  bool   \\n  8   country        331675 non-null  object \\n  9   usd_goal_real  331675 non-null  float64\\n  dtypes: bool(1), float64(2), object(7)\\n'"
            ]
          },
          "metadata": {
            "tags": []
          },
          "execution_count": 3
        }
      ]
    },
    {
      "cell_type": "code",
      "metadata": {
        "id": "XpVP0-ykCV8h",
        "outputId": "f74712dd-3919-4c56-ac4d-d52bbe91d32f",
        "colab": {
          "base_uri": "https://localhost:8080/",
          "height": 1000
        }
      },
      "source": [
        "# 'name' の変換\n",
        "def convert_name( df ):\n",
        "\n",
        "  # 'name' は、単語数に置き換える\n",
        "  converted = df[\"name\"].fillna('').str.split().apply(len)\n",
        "  hist_count( \"name の文字列長\", converted )\n",
        "  return converted\n",
        "  \n",
        "# 'category' の変換\n",
        "def convert_category( df ):\n",
        "\n",
        "  # 'category' は、文字数に置き換える\n",
        "  converted = df[\"category\"].str.len()\n",
        "  hist_count( \"category の単語数\", converted )\n",
        "  return converted\n",
        "  \n",
        "# 'deadline', 'launched' の変換\n",
        "def convert_deadline_launched( df ):\n",
        "\n",
        "  # 'deadline', 'launched' は、日付の差分に置き換える\n",
        "  converted = ( df['deadline'].apply(pd.to_datetime) - df['launched'].apply(pd.to_datetime) ).dt.days\n",
        "  hist_count( \"launched から deadline までの日数\", converted )\n",
        "  return converted\n",
        "\n",
        "\n",
        "# 説明変数として扱えるよう、（無理矢理）数値に変換する\n",
        "df[\"name_strlen\"] = convert_name( df )\n",
        "df[\"category_wordnum\"] = convert_category( df )\n",
        "df['days_left'] = convert_deadline_launched( df )\n",
        "display_info( \"数値置き換え後の df.info()\", df )\n"
      ],
      "execution_count": 4,
      "outputs": [
        {
          "output_type": "stream",
          "text": [
            "◆--- < name の文字列長 > の出現頻度 ---◆\n"
          ],
          "name": "stdout"
        },
        {
          "output_type": "display_data",
          "data": {
            "image/png": "[encoded data removed]",
            "text/plain": [
              "<Figure size 432x288 with 1 Axes>"
            ]
          },
          "metadata": {
            "tags": [],
            "needs_background": "light"
          }
        },
        {
          "output_type": "stream",
          "text": [
            "\n",
            "0         3\n",
            "1     14957\n",
            "2     30315\n",
            "3     42587\n",
            "4     41894\n",
            "5     39641\n",
            "6     37028\n",
            "7     35442\n",
            "8     32426\n",
            "9     26376\n",
            "10    17473\n",
            "11     8553\n",
            "12     3286\n",
            "13     1023\n",
            "14      365\n",
            "15      174\n",
            "16       86\n",
            "17       25\n",
            "18       14\n",
            "19        3\n",
            "20        1\n",
            "21        1\n",
            "27        1\n",
            "29        1\n",
            "Name: name, dtype: int64\n",
            "◇----------◇\n",
            "\n",
            "◆--- < category の単語数 > の出現頻度 ---◆\n"
          ],
          "name": "stdout"
        },
        {
          "output_type": "display_data",
          "data": {
            "image/png": "[encoded data removed]",
            "text/plain": [
              "<Figure size 432x288 with 1 Axes>"
            ]
          },
          "metadata": {
            "tags": [],
            "needs_background": "light"
          }
        },
        {
          "output_type": "stream",
          "text": [
            "\n",
            "3     16269\n",
            "4     24222\n",
            "5     27014\n",
            "6     35595\n",
            "7     37963\n",
            "8     11887\n",
            "9     15841\n",
            "10    31467\n",
            "11    50327\n",
            "12    16412\n",
            "13     3604\n",
            "14    43855\n",
            "15     6175\n",
            "16     9682\n",
            "17     1020\n",
            "18      342\n",
            "Name: category, dtype: int64\n",
            "◇----------◇\n",
            "\n",
            "◆--- < launched から deadline までの日数 > の出現頻度 ---◆\n"
          ],
          "name": "stdout"
        },
        {
          "output_type": "display_data",
          "data": {
            "image/png": "[encoded data removed]",
            "text/plain": [
              "<Figure size 432x288 with 1 Axes>"
            ]
          },
          "metadata": {
            "tags": [],
            "needs_background": "light"
          }
        },
        {
          "output_type": "stream",
          "text": [
            "\n",
            "0       92\n",
            "1      129\n",
            "2      194\n",
            "3      196\n",
            "4      448\n",
            "      ... \n",
            "87     105\n",
            "88     378\n",
            "89    1300\n",
            "90     445\n",
            "91      22\n",
            "Length: 92, dtype: int64\n",
            "◇----------◇\n",
            "\n",
            "◆--- < 数値置き換え後の df.info()  > ---◆\n",
            "<class 'pandas.core.frame.DataFrame'>\n",
            "Int64Index: 331675 entries, 0 to 378660\n",
            "Data columns (total 13 columns):\n",
            " #   Column            Non-Null Count   Dtype  \n",
            "---  ------            --------------   -----  \n",
            " 0   name              331672 non-null  object \n",
            " 1   category          331675 non-null  object \n",
            " 2   main_category     331675 non-null  object \n",
            " 3   currency          331675 non-null  object \n",
            " 4   deadline          331675 non-null  object \n",
            " 5   goal              331675 non-null  float64\n",
            " 6   launched          331675 non-null  object \n",
            " 7   state             331675 non-null  object \n",
            " 8   country           331675 non-null  object \n",
            " 9   usd_goal_real     331675 non-null  float64\n",
            " 10  name_strlen       331675 non-null  int64  \n",
            " 11  category_wordnum  331675 non-null  int64  \n",
            " 12  days_left         331675 non-null  int64  \n",
            "dtypes: float64(2), int64(3), object(8)\n",
            "memory usage: 35.4+ MB\n",
            "None\n",
            "◇----------◇\n",
            "\n"
          ],
          "name": "stdout"
        }
      ]
    },
    {
      "cell_type": "code",
      "metadata": {
        "id": "H2Wa1vaG5Y-h",
        "outputId": "ccbfbd56-a91d-48f1-8fed-7dab7b5d4d85",
        "colab": {
          "base_uri": "https://localhost:8080/",
          "height": 1000
        }
      },
      "source": [
        "# 訓練データ 80% 、テストデータ 20% となるように分割\n",
        "df[\"state\"] = df[\"state\"].astype(int)\n",
        "x_index = df.columns\n",
        "x_dtype = df.dtypes\n",
        "y_index = [\"state\"]\n",
        "y_dtype = df[\"state\"].dtype\n",
        "\n",
        "X = df[x_index].values\n",
        "y = df[y_index].values\n",
        "test_size = 0.2\n",
        "X_train, X_test, y_train, y_test = train_test_split(X, y, test_size=test_size, random_state=1234)\n",
        "\n",
        "# ndarray型よりも、DataFrame型の方が扱いやすいため、変換しておく\n",
        "X_train_df = pd.DataFrame( data = X_train, columns = x_index )\n",
        "X_test_df = pd.DataFrame( data = X_test, columns = x_index )\n",
        "y_train_df = pd.DataFrame( data = y_train, columns = y_index )\n",
        "y_test_df = pd.DataFrame( data = y_test, columns = y_index )\n",
        "\n",
        "# dfの各列の型を、コピー\n",
        "for column in x_index:\n",
        "  X_train_df[column] = X_train_df[column].astype( df[column].dtype )\n",
        "  X_test_df[column] = X_test_df[column].astype( df[column].dtype )\n",
        "for column in y_index:\n",
        "  y_train_df[column] = y_train_df[column].astype( df[column].dtype )\n",
        "  y_test_df[column] = y_test_df[column].astype( df[column].dtype )\n",
        "\n",
        "display_info( \"訓練データの説明変数 X_train_df.info()\", X_train_df )\n",
        "display_info( \"テストデータの説明変数 X_test_df.info()\", X_test_df )\n",
        "display_info( \"訓練データの目的変数 y_train_df.info()\", y_train_df )\n",
        "display_info( \"テストデータの目的変数 y_test_df.info()\", y_test_df )\n",
        "\n"
      ],
      "execution_count": 5,
      "outputs": [
        {
          "output_type": "stream",
          "text": [
            "◆--- < 訓練データの説明変数 X_train_df.info()  > ---◆\n",
            "<class 'pandas.core.frame.DataFrame'>\n",
            "RangeIndex: 265340 entries, 0 to 265339\n",
            "Data columns (total 13 columns):\n",
            " #   Column            Non-Null Count   Dtype  \n",
            "---  ------            --------------   -----  \n",
            " 0   name              265338 non-null  object \n",
            " 1   category          265340 non-null  object \n",
            " 2   main_category     265340 non-null  object \n",
            " 3   currency          265340 non-null  object \n",
            " 4   deadline          265340 non-null  object \n",
            " 5   goal              265340 non-null  float64\n",
            " 6   launched          265340 non-null  object \n",
            " 7   state             265340 non-null  int64  \n",
            " 8   country           265340 non-null  object \n",
            " 9   usd_goal_real     265340 non-null  float64\n",
            " 10  name_strlen       265340 non-null  int64  \n",
            " 11  category_wordnum  265340 non-null  int64  \n",
            " 12  days_left         265340 non-null  int64  \n",
            "dtypes: float64(2), int64(4), object(7)\n",
            "memory usage: 26.3+ MB\n",
            "None\n",
            "◇----------◇\n",
            "\n",
            "◆--- < テストデータの説明変数 X_test_df.info()  > ---◆\n",
            "<class 'pandas.core.frame.DataFrame'>\n",
            "RangeIndex: 66335 entries, 0 to 66334\n",
            "Data columns (total 13 columns):\n",
            " #   Column            Non-Null Count  Dtype  \n",
            "---  ------            --------------  -----  \n",
            " 0   name              66334 non-null  object \n",
            " 1   category          66335 non-null  object \n",
            " 2   main_category     66335 non-null  object \n",
            " 3   currency          66335 non-null  object \n",
            " 4   deadline          66335 non-null  object \n",
            " 5   goal              66335 non-null  float64\n",
            " 6   launched          66335 non-null  object \n",
            " 7   state             66335 non-null  int64  \n",
            " 8   country           66335 non-null  object \n",
            " 9   usd_goal_real     66335 non-null  float64\n",
            " 10  name_strlen       66335 non-null  int64  \n",
            " 11  category_wordnum  66335 non-null  int64  \n",
            " 12  days_left         66335 non-null  int64  \n",
            "dtypes: float64(2), int64(4), object(7)\n",
            "memory usage: 6.6+ MB\n",
            "None\n",
            "◇----------◇\n",
            "\n",
            "◆--- < 訓練データの目的変数 y_train_df.info()  > ---◆\n",
            "<class 'pandas.core.frame.DataFrame'>\n",
            "RangeIndex: 265340 entries, 0 to 265339\n",
            "Data columns (total 1 columns):\n",
            " #   Column  Non-Null Count   Dtype\n",
            "---  ------  --------------   -----\n",
            " 0   state   265340 non-null  int64\n",
            "dtypes: int64(1)\n",
            "memory usage: 2.0 MB\n",
            "None\n",
            "◇----------◇\n",
            "\n",
            "◆--- < テストデータの目的変数 y_test_df.info()  > ---◆\n",
            "<class 'pandas.core.frame.DataFrame'>\n",
            "RangeIndex: 66335 entries, 0 to 66334\n",
            "Data columns (total 1 columns):\n",
            " #   Column  Non-Null Count  Dtype\n",
            "---  ------  --------------  -----\n",
            " 0   state   66335 non-null  int64\n",
            "dtypes: int64(1)\n",
            "memory usage: 518.4 KB\n",
            "None\n",
            "◇----------◇\n",
            "\n"
          ],
          "name": "stdout"
        }
      ]
    },
    {
      "cell_type": "code",
      "metadata": {
        "id": "7QFKupVQ202h",
        "outputId": "f509ad3a-10f3-4abc-d75b-f7ff7dac4761",
        "colab": {
          "base_uri": "https://localhost:8080/",
          "height": 777
        }
      },
      "source": [
        "# 中川さんのノートブックを参考に、散布図を書いてみる\n",
        "index_int = X_train_df.select_dtypes('number').columns\n",
        "display(index_int)\n",
        "if 1:\n",
        "  sns.pairplot(X_train_df[[\"name_strlen\",\"category_wordnum\",\"days_left\",\"state\"]])\n",
        "else:\n",
        "  # 実行が完了しなかった。。。\n",
        "  sns.pairplot(X_train_df[index_int])\n"
      ],
      "execution_count": 6,
      "outputs": [
        {
          "output_type": "display_data",
          "data": {
            "text/plain": [
              "Index(['goal', 'state', 'usd_goal_real', 'name_strlen', 'category_wordnum',\n",
              "       'days_left'],\n",
              "      dtype='object')"
            ]
          },
          "metadata": {
            "tags": []
          }
        },
        {
          "output_type": "display_data",
          "data": {
            "image/png": "[encoded data removed]",
            "text/plain": [
              "<Figure size 720x720 with 20 Axes>"
            ]
          },
          "metadata": {
            "tags": [],
            "needs_background": "light"
          }
        }
      ]
    },
    {
      "cell_type": "code",
      "metadata": {
        "id": "t46XfZC_bA1c",
        "outputId": "da547584-4a8f-4104-8719-eef7b3e3bc20",
        "colab": {
          "base_uri": "https://localhost:8080/",
          "height": 1000
        }
      },
      "source": [
        "# 山崎さんのノートブックを参考にグラフを描画\n",
        "for column in X_train_df.select_dtypes('number').columns:\n",
        "  display(column)\n",
        "  column_mean = X_train_df.groupby(column).state.mean()\n",
        "  sns.regplot(x=column_mean.index.array, y=column_mean.values)\n",
        "  plt.show()"
      ],
      "execution_count": 7,
      "outputs": [
        {
          "output_type": "display_data",
          "data": {
            "application/vnd.google.colaboratory.intrinsic+json": {
              "type": "string"
            },
            "text/plain": [
              "'goal'"
            ]
          },
          "metadata": {
            "tags": []
          }
        },
        {
          "output_type": "display_data",
          "data": {
            "image/png": "[encoded data removed]",
            "text/plain": [
              "<Figure size 432x288 with 1 Axes>"
            ]
          },
          "metadata": {
            "tags": [],
            "needs_background": "light"
          }
        },
        {
          "output_type": "display_data",
          "data": {
            "application/vnd.google.colaboratory.intrinsic+json": {
              "type": "string"
            },
            "text/plain": [
              "'state'"
            ]
          },
          "metadata": {
            "tags": []
          }
        },
        {
          "output_type": "display_data",
          "data": {
            "image/png": "[encoded data removed]",
            "text/plain": [
              "<Figure size 432x288 with 1 Axes>"
            ]
          },
          "metadata": {
            "tags": [],
            "needs_background": "light"
          }
        },
        {
          "output_type": "display_data",
          "data": {
            "application/vnd.google.colaboratory.intrinsic+json": {
              "type": "string"
            },
            "text/plain": [
              "'usd_goal_real'"
            ]
          },
          "metadata": {
            "tags": []
          }
        },
        {
          "output_type": "display_data",
          "data": {
            "image/png": "[encoded data removed]",
            "text/plain": [
              "<Figure size 432x288 with 1 Axes>"
            ]
          },
          "metadata": {
            "tags": [],
            "needs_background": "light"
          }
        },
        {
          "output_type": "display_data",
          "data": {
            "application/vnd.google.colaboratory.intrinsic+json": {
              "type": "string"
            },
            "text/plain": [
              "'name_strlen'"
            ]
          },
          "metadata": {
            "tags": []
          }
        },
        {
          "output_type": "display_data",
          "data": {
            "image/png": "[encoded data removed]",
            "text/plain": [
              "<Figure size 432x288 with 1 Axes>"
            ]
          },
          "metadata": {
            "tags": [],
            "needs_background": "light"
          }
        },
        {
          "output_type": "display_data",
          "data": {
            "application/vnd.google.colaboratory.intrinsic+json": {
              "type": "string"
            },
            "text/plain": [
              "'category_wordnum'"
            ]
          },
          "metadata": {
            "tags": []
          }
        },
        {
          "output_type": "display_data",
          "data": {
            "image/png": "[encoded data removed]",
            "text/plain": [
              "<Figure size 432x288 with 1 Axes>"
            ]
          },
          "metadata": {
            "tags": [],
            "needs_background": "light"
          }
        },
        {
          "output_type": "display_data",
          "data": {
            "application/vnd.google.colaboratory.intrinsic+json": {
              "type": "string"
            },
            "text/plain": [
              "'days_left'"
            ]
          },
          "metadata": {
            "tags": []
          }
        },
        {
          "output_type": "display_data",
          "data": {
            "image/png": "[encoded data removed]",
            "text/plain": [
              "<Figure size 432x288 with 1 Axes>"
            ]
          },
          "metadata": {
            "tags": [],
            "needs_background": "light"
          }
        }
      ]
    },
    {
      "cell_type": "code",
      "metadata": {
        "id": "TlmiTvRg4uHS",
        "outputId": "eb91186d-bd99-4d47-cfbe-64bdb98b2790",
        "colab": {
          "base_uri": "https://localhost:8080/",
          "height": 326
        }
      },
      "source": [
        "# 小林さんのノートブックを参考に、ategory Encorders ライブラリを使ってみる。\n",
        "!pip install category_encoders\n",
        "import category_encoders as ce"
      ],
      "execution_count": 8,
      "outputs": [
        {
          "output_type": "stream",
          "text": [
            "Collecting category_encoders\n",
            "\u001b[?25l  Downloading https://files.pythonhosted.org/packages/44/57/fcef41c248701ee62e8325026b90c432adea35555cbc870aff9cfba23727/category_encoders-2.2.2-py2.py3-none-any.whl (80kB)\n",
            "\r\u001b[K     |████                            | 10kB 15.8MB/s eta 0:00:01\r\u001b[K     |████████▏                       | 20kB 1.5MB/s eta 0:00:01\r\u001b[K     |████████████▏                   | 30kB 1.8MB/s eta 0:00:01\r\u001b[K     |████████████████▎               | 40kB 2.1MB/s eta 0:00:01\r\u001b[K     |████████████████████▎           | 51kB 2.0MB/s eta 0:00:01\r\u001b[K     |████████████████████████▍       | 61kB 2.2MB/s eta 0:00:01\r\u001b[K     |████████████████████████████▍   | 71kB 2.4MB/s eta 0:00:01\r\u001b[K     |████████████████████████████████| 81kB 2.2MB/s \n",
            "\u001b[?25hRequirement already satisfied: scikit-learn>=0.20.0 in /usr/local/lib/python3.6/dist-packages (from category_encoders) (0.22.2.post1)\n",
            "Requirement already satisfied: patsy>=0.5.1 in /usr/local/lib/python3.6/dist-packages (from category_encoders) (0.5.1)\n",
            "Requirement already satisfied: numpy>=1.14.0 in /usr/local/lib/python3.6/dist-packages (from category_encoders) (1.18.5)\n",
            "Requirement already satisfied: scipy>=1.0.0 in /usr/local/lib/python3.6/dist-packages (from category_encoders) (1.4.1)\n",
            "Requirement already satisfied: pandas>=0.21.1 in /usr/local/lib/python3.6/dist-packages (from category_encoders) (1.1.2)\n",
            "Requirement already satisfied: statsmodels>=0.9.0 in /usr/local/lib/python3.6/dist-packages (from category_encoders) (0.10.2)\n",
            "Requirement already satisfied: joblib>=0.11 in /usr/local/lib/python3.6/dist-packages (from scikit-learn>=0.20.0->category_encoders) (0.16.0)\n",
            "Requirement already satisfied: six in /usr/local/lib/python3.6/dist-packages (from patsy>=0.5.1->category_encoders) (1.15.0)\n",
            "Requirement already satisfied: python-dateutil>=2.7.3 in /usr/local/lib/python3.6/dist-packages (from pandas>=0.21.1->category_encoders) (2.8.1)\n",
            "Requirement already satisfied: pytz>=2017.2 in /usr/local/lib/python3.6/dist-packages (from pandas>=0.21.1->category_encoders) (2018.9)\n",
            "Installing collected packages: category-encoders\n",
            "Successfully installed category-encoders-2.2.2\n"
          ],
          "name": "stdout"
        },
        {
          "output_type": "stream",
          "text": [
            "/usr/local/lib/python3.6/dist-packages/statsmodels/tools/_testing.py:19: FutureWarning: pandas.util.testing is deprecated. Use the functions in the public API at pandas.testing instead.\n",
            "  import pandas.util.testing as tm\n"
          ],
          "name": "stderr"
        }
      ]
    },
    {
      "cell_type": "code",
      "metadata": {
        "id": "MrO2QDI8F_A9"
      },
      "source": [
        "# TargetEncoder による変換\n",
        "def convert_by_te( explanatory, objective, X_train_df, X_test_df ):\n",
        "  TE = ce.TargetEncoder()\n",
        "\n",
        "  # リークしないよう、X_train_df を対象に fit_transform() を実行\n",
        "  converted_train = TE.fit_transform(X_train_df[explanatory], X_train_df[objective])\n",
        "  #display_info( \"X_train_df.\" + explanatory + \" から求めた *_te を X_train_df に追加\", converted_train )\n",
        "\n",
        "  # その結果を、X_test_df に、transform() で反映\n",
        "  converted_test = TE.transform( X_test_df[explanatory] )\n",
        "  #display_info( \"X_train_df.\" + explanatory + \" から求めた *_te を X_test_df に追加\", converted_test )\n",
        "  return converted_train, converted_test\n"
      ],
      "execution_count": 9,
      "outputs": []
    },
    {
      "cell_type": "code",
      "metadata": {
        "id": "XpnWNwJl4PBf",
        "outputId": "e792a940-0208-4472-8a51-5565cd04e0d8",
        "colab": {
          "base_uri": "https://localhost:8080/",
          "height": 1000
        }
      },
      "source": [
        "# TargetEncoder を使って main_category, currency, country を変換\n",
        "for cnv in [ \"main_category\", \"currency\", \"country\" ]:\n",
        "  cnv_te = cnv + \"_te\"\n",
        "  X_train_df[cnv_te], X_test_df[cnv_te] = convert_by_te( cnv, \"state\", X_train_df, X_test_df)\n",
        "  \n",
        "  # X_train, X_test にも、列を追加しておく\n",
        "  if 0 :\n",
        "    # つもりだったが、X_train, X_test は、後から *_df から再作成するため、ここでの辻褄合わせをやめる    \n",
        "    X_train = np.append( X_train, X_train_df[cnv_te].values.reshape(-1,1), axis=1)\n",
        "    X_test = np.append( X_test, X_test_df[cnv_te].values.reshape(-1,1), axis=1)\n",
        "\n",
        "display_info( 'X_train_df', X_train_df )\n",
        "display_shape( 'X_train', X_train )\n",
        "\n",
        "display_info( 'X_test_df', X_test_df )\n",
        "display_shape( 'X_test', X_test )\n"
      ],
      "execution_count": 10,
      "outputs": [
        {
          "output_type": "stream",
          "text": [
            "/usr/local/lib/python3.6/dist-packages/category_encoders/utils.py:21: FutureWarning: is_categorical is deprecated and will be removed in a future version.  Use is_categorical_dtype instead\n",
            "  elif pd.api.types.is_categorical(cols):\n",
            "/usr/local/lib/python3.6/dist-packages/category_encoders/utils.py:21: FutureWarning: is_categorical is deprecated and will be removed in a future version.  Use is_categorical_dtype instead\n",
            "  elif pd.api.types.is_categorical(cols):\n",
            "/usr/local/lib/python3.6/dist-packages/category_encoders/utils.py:21: FutureWarning: is_categorical is deprecated and will be removed in a future version.  Use is_categorical_dtype instead\n",
            "  elif pd.api.types.is_categorical(cols):\n"
          ],
          "name": "stderr"
        },
        {
          "output_type": "stream",
          "text": [
            "◆--- < X_train_df  > ---◆\n",
            "<class 'pandas.core.frame.DataFrame'>\n",
            "RangeIndex: 265340 entries, 0 to 265339\n",
            "Data columns (total 16 columns):\n",
            " #   Column            Non-Null Count   Dtype  \n",
            "---  ------            --------------   -----  \n",
            " 0   name              265338 non-null  object \n",
            " 1   category          265340 non-null  object \n",
            " 2   main_category     265340 non-null  object \n",
            " 3   currency          265340 non-null  object \n",
            " 4   deadline          265340 non-null  object \n",
            " 5   goal              265340 non-null  float64\n",
            " 6   launched          265340 non-null  object \n",
            " 7   state             265340 non-null  int64  \n",
            " 8   country           265340 non-null  object \n",
            " 9   usd_goal_real     265340 non-null  float64\n",
            " 10  name_strlen       265340 non-null  int64  \n",
            " 11  category_wordnum  265340 non-null  int64  \n",
            " 12  days_left         265340 non-null  int64  \n",
            " 13  main_category_te  265340 non-null  float64\n",
            " 14  currency_te       265340 non-null  float64\n",
            " 15  country_te        265340 non-null  float64\n",
            "dtypes: float64(5), int64(4), object(7)\n",
            "memory usage: 32.4+ MB\n",
            "None\n",
            "◇----------◇\n",
            "\n",
            "◆--- < X_train  > ---◆\n",
            "(265340, 13)\n",
            "◇----------◇\n",
            "\n",
            "◆--- < X_test_df  > ---◆\n",
            "<class 'pandas.core.frame.DataFrame'>\n",
            "RangeIndex: 66335 entries, 0 to 66334\n",
            "Data columns (total 16 columns):\n",
            " #   Column            Non-Null Count  Dtype  \n",
            "---  ------            --------------  -----  \n",
            " 0   name              66334 non-null  object \n",
            " 1   category          66335 non-null  object \n",
            " 2   main_category     66335 non-null  object \n",
            " 3   currency          66335 non-null  object \n",
            " 4   deadline          66335 non-null  object \n",
            " 5   goal              66335 non-null  float64\n",
            " 6   launched          66335 non-null  object \n",
            " 7   state             66335 non-null  int64  \n",
            " 8   country           66335 non-null  object \n",
            " 9   usd_goal_real     66335 non-null  float64\n",
            " 10  name_strlen       66335 non-null  int64  \n",
            " 11  category_wordnum  66335 non-null  int64  \n",
            " 12  days_left         66335 non-null  int64  \n",
            " 13  main_category_te  66335 non-null  float64\n",
            " 14  currency_te       66335 non-null  float64\n",
            " 15  country_te        66335 non-null  float64\n",
            "dtypes: float64(5), int64(4), object(7)\n",
            "memory usage: 8.1+ MB\n",
            "None\n",
            "◇----------◇\n",
            "\n",
            "◆--- < X_test  > ---◆\n",
            "(66335, 13)\n",
            "◇----------◇\n",
            "\n"
          ],
          "name": "stdout"
        }
      ]
    },
    {
      "cell_type": "code",
      "metadata": {
        "id": "VL3AR825exK2",
        "outputId": "44c0be45-0f82-411f-cb3b-2388db55143b",
        "colab": {
          "base_uri": "https://localhost:8080/",
          "height": 935
        }
      },
      "source": [
        "'''\n",
        "◆--- < X_train_df  > ---◆\n",
        "<class 'pandas.core.frame.DataFrame'>\n",
        "RangeIndex: 265340 entries, 0 to 265339\n",
        "Data columns (total 16 columns):\n",
        " #   Column            Non-Null Count   Dtype  \n",
        "---  ------            --------------   -----  \n",
        " 0   name              265338 non-null  object \n",
        " 1   category          265340 non-null  object \n",
        " 2   main_category     265340 non-null  object \n",
        " 3   currency          265340 non-null  object \n",
        " 4   deadline          265340 non-null  object \n",
        " 5   goal              265340 non-null  float64\n",
        " 6   launched          265340 non-null  object \n",
        " 7   state             265340 non-null  int64  \n",
        " 8   country           265340 non-null  object \n",
        " 9   usd_goal_real     265340 non-null  float64\n",
        " 10  name_strlen       265340 non-null  int64  \n",
        " 11  category_wordnum  265340 non-null  int64  \n",
        " 12  days_left         265340 non-null  int64  \n",
        " 13  main_category_te  265340 non-null  float64\n",
        " 14  currency_te       265340 non-null  float64\n",
        " 15  country_te        265340 non-null  float64\n",
        "dtypes: float64(5), int64(4), object(7)\n",
        "memory usage: 32.4+ MB\n",
        "None\n",
        "◇----------◇\n",
        "'''\n",
        "# 数値以外の列は、何らかの変換を行っている。\n",
        "# [0] name          -> [10] name_strlen\n",
        "# [1] category      -> [11] category_wordnum\n",
        "# [2] main_category -> [13] main_category_te\n",
        "# [3] currency      -> [14] currency_te\n",
        "# [4] deadline      -> [12] days_left\n",
        "# [6] launched      -> [12] days_left\n",
        "# [8] country       -> [15] country_te\n",
        "\n",
        "# 16列のX_*_df から、目的変数のstate列と、数値以外の列の計8列を削除\n",
        "for X_df in [X_train_df, X_test_df]:\n",
        "  X_df.drop( [\"state\"], axis=1, inplace=True)\n",
        "  X_df.drop( X_df.select_dtypes(exclude='number'), axis=1, inplace=True )\n",
        "  display_info( 'state列と、数値以外の列を削除', X_df )\n",
        "\n",
        "# 8列となった削除後のX_*_df(DataFrame型) から、X_*(ndarray型) を再作成\n",
        "display_shape( \"再作成前：X_train\", X_train )\n",
        "X_train = X_train_df.values\n",
        "display_shape( \"再作成後：X_train\", X_train )\n",
        "\n",
        "display_shape( \"再作成前：X_test\", X_test )\n",
        "X_test = X_test_df.values\n",
        "display_shape( \"再作成後：X_test\", X_test )\n"
      ],
      "execution_count": 11,
      "outputs": [
        {
          "output_type": "stream",
          "text": [
            "◆--- < state列と、数値以外の列を削除  > ---◆\n",
            "<class 'pandas.core.frame.DataFrame'>\n",
            "RangeIndex: 265340 entries, 0 to 265339\n",
            "Data columns (total 8 columns):\n",
            " #   Column            Non-Null Count   Dtype  \n",
            "---  ------            --------------   -----  \n",
            " 0   goal              265340 non-null  float64\n",
            " 1   usd_goal_real     265340 non-null  float64\n",
            " 2   name_strlen       265340 non-null  int64  \n",
            " 3   category_wordnum  265340 non-null  int64  \n",
            " 4   days_left         265340 non-null  int64  \n",
            " 5   main_category_te  265340 non-null  float64\n",
            " 6   currency_te       265340 non-null  float64\n",
            " 7   country_te        265340 non-null  float64\n",
            "dtypes: float64(5), int64(3)\n",
            "memory usage: 16.2 MB\n",
            "None\n",
            "◇----------◇\n",
            "\n",
            "◆--- < state列と、数値以外の列を削除  > ---◆\n",
            "<class 'pandas.core.frame.DataFrame'>\n",
            "RangeIndex: 66335 entries, 0 to 66334\n",
            "Data columns (total 8 columns):\n",
            " #   Column            Non-Null Count  Dtype  \n",
            "---  ------            --------------  -----  \n",
            " 0   goal              66335 non-null  float64\n",
            " 1   usd_goal_real     66335 non-null  float64\n",
            " 2   name_strlen       66335 non-null  int64  \n",
            " 3   category_wordnum  66335 non-null  int64  \n",
            " 4   days_left         66335 non-null  int64  \n",
            " 5   main_category_te  66335 non-null  float64\n",
            " 6   currency_te       66335 non-null  float64\n",
            " 7   country_te        66335 non-null  float64\n",
            "dtypes: float64(5), int64(3)\n",
            "memory usage: 4.0 MB\n",
            "None\n",
            "◇----------◇\n",
            "\n",
            "◆--- < 再作成前：X_train  > ---◆\n",
            "(265340, 13)\n",
            "◇----------◇\n",
            "\n",
            "◆--- < 再作成後：X_train  > ---◆\n",
            "(265340, 8)\n",
            "◇----------◇\n",
            "\n",
            "◆--- < 再作成前：X_test  > ---◆\n",
            "(66335, 13)\n",
            "◇----------◇\n",
            "\n",
            "◆--- < 再作成後：X_test  > ---◆\n",
            "(66335, 8)\n",
            "◇----------◇\n",
            "\n"
          ],
          "name": "stdout"
        }
      ]
    },
    {
      "cell_type": "code",
      "metadata": {
        "id": "r4S1yC0qY3hr"
      },
      "source": [
        "# 訓練データの標準化\n",
        "stdsc = StandardScaler()\n",
        "X_train_std = stdsc.fit_transform(X_train)\n",
        "X_test_std = stdsc.transform(X_train)\n"
      ],
      "execution_count": 12,
      "outputs": []
    },
    {
      "cell_type": "code",
      "metadata": {
        "id": "9a8eQAgeP18F",
        "outputId": "61e4efc7-dedf-4269-e612-39eb82b4625b",
        "colab": {
          "base_uri": "https://localhost:8080/",
          "height": 258
        }
      },
      "source": [
        "# RFECVは交差検証によってステップワイズ法による特徴選択を行う\n",
        "# cvにはFold（=グループ）の数，scoringには評価指標を指定する\n",
        "# 今回は分類なのでaccuracyを評価指標に指定\n",
        "estimator = SGDClassifier(loss='log', penalty='none', max_iter=10000, fit_intercept=True, random_state=1234, tol=1e-3)\n",
        "rfecv = RFECV(estimator, cv=10, scoring='accuracy')\n",
        "\n",
        "# fitで特徴選択を実行\n",
        "rfecv.fit(X_train, y_train)\n"
      ],
      "execution_count": 13,
      "outputs": [
        {
          "output_type": "stream",
          "text": [
            "/usr/local/lib/python3.6/dist-packages/sklearn/utils/validation.py:760: DataConversionWarning: A column-vector y was passed when a 1d array was expected. Please change the shape of y to (n_samples, ), for example using ravel().\n",
            "  y = column_or_1d(y, warn=True)\n"
          ],
          "name": "stderr"
        },
        {
          "output_type": "execute_result",
          "data": {
            "text/plain": [
              "RFECV(cv=10,\n",
              "      estimator=SGDClassifier(alpha=0.0001, average=False, class_weight=None,\n",
              "                              early_stopping=False, epsilon=0.1, eta0=0.0,\n",
              "                              fit_intercept=True, l1_ratio=0.15,\n",
              "                              learning_rate='optimal', loss='log',\n",
              "                              max_iter=10000, n_iter_no_change=5, n_jobs=None,\n",
              "                              penalty='none', power_t=0.5, random_state=1234,\n",
              "                              shuffle=True, tol=0.001, validation_fraction=0.1,\n",
              "                              verbose=0, warm_start=False),\n",
              "      min_features_to_select=1, n_jobs=None, scoring='accuracy', step=1,\n",
              "      verbose=0)"
            ]
          },
          "metadata": {
            "tags": []
          },
          "execution_count": 13
        }
      ]
    },
    {
      "cell_type": "code",
      "metadata": {
        "id": "iR_bHXrwRmHz",
        "outputId": "4618b48f-4b37-49d1-ef81-953671cf3fa2",
        "colab": {
          "base_uri": "https://localhost:8080/",
          "height": 102
        }
      },
      "source": [
        "# 特徴のランキングを表示（1が最も重要な特徴）\n",
        "print('Feature ranking: \\n{}'.format(rfecv.ranking_))\n",
        "display( X_train_df.columns )"
      ],
      "execution_count": 14,
      "outputs": [
        {
          "output_type": "stream",
          "text": [
            "Feature ranking: \n",
            "[6 5 2 3 4 1 8 7]\n"
          ],
          "name": "stdout"
        },
        {
          "output_type": "display_data",
          "data": {
            "text/plain": [
              "Index(['goal', 'usd_goal_real', 'name_strlen', 'category_wordnum', 'days_left',\n",
              "       'main_category_te', 'currency_te', 'country_te'],\n",
              "      dtype='object')"
            ]
          },
          "metadata": {
            "tags": []
          }
        }
      ]
    },
    {
      "cell_type": "code",
      "metadata": {
        "id": "qCEl9xwcbijy",
        "outputId": "ab2ba62b-f8ab-4efe-f0b3-ea4b3e483af0",
        "colab": {
          "base_uri": "https://localhost:8080/",
          "height": 153
        }
      },
      "source": [
        "'''\n",
        "Feature ranking: \n",
        "[6 5 2 3 4 1 8 7]\n",
        "Index(['goal', 'usd_goal_real', 'name_strlen', 'category_wordnum', 'days_left',\n",
        "       'main_category_te', 'currency_te', 'country_te'],\n",
        "      dtype='object')\n",
        "'''\n",
        "# ↑ranking=1 となる列が複数あると期待していたが、バラバラなので、\n",
        "# goal(6)、currency_te(8)、country_te(7) あたりを、落としてみるか？\n",
        "low_rank = [\"goal\", \"currency_te\", \"country_te\"]\n",
        "X_train2 = X_train_df.drop(low_rank, axis=1).values\n",
        "X_test2 = X_test_df.drop(low_rank, axis=1).values\n",
        "display_shape( \"X_train2\", X_train2 )\n",
        "display_shape( \"X_test2\", X_test2 )\n"
      ],
      "execution_count": 15,
      "outputs": [
        {
          "output_type": "stream",
          "text": [
            "◆--- < X_train2  > ---◆\n",
            "(265340, 5)\n",
            "◇----------◇\n",
            "\n",
            "◆--- < X_test2  > ---◆\n",
            "(66335, 5)\n",
            "◇----------◇\n",
            "\n"
          ],
          "name": "stdout"
        }
      ]
    },
    {
      "cell_type": "code",
      "metadata": {
        "id": "Vjr17n7eofzX"
      },
      "source": [
        "# 対数尤度と正答率を出力する\n",
        "def display_result( model_name, answer, pred ):\n",
        "  display( \"★\" + model_name  )\n",
        "  display( '   ・対数尤度 = {:.3f}'.format(- log_loss(answer, pred)) )\n",
        "  display( '   ・正答率   = {:.3f}%'.format(100 * accuracy_score(answer, pred) ) )\n",
        "\n",
        "# 訓練データによる学習を行い、訓練誤差と汎化誤差を求める\n",
        "def fit_predict( model_name, model, X_train, y_train, X_test, y_test ):\n",
        "\n",
        "  # 訓練データによる学習\n",
        "  model.fit( X_train, y_train )\n",
        "\n",
        "  # 訓練誤差\n",
        "  train_pred = model.predict( X_train )\n",
        "  display_result( model_name + \"（説明変数：\" + str(X_train.shape[1]) + \"個）の訓練誤差\", y_train, train_pred )\n",
        "\n",
        "  # 汎化誤差\n",
        "  test_pred  = model.predict( X_test )\n",
        "  display_result( model_name + \"（説明変数：\" + str(X_train.shape[1]) + \"個）の汎化誤差\", y_test, test_pred )\n"
      ],
      "execution_count": 16,
      "outputs": []
    },
    {
      "cell_type": "code",
      "metadata": {
        "id": "Q955O6ZY0rB7",
        "outputId": "fc690a0f-6c19-443d-ec26-258d5d2c9c35",
        "colab": {
          "base_uri": "https://localhost:8080/",
          "height": 321
        }
      },
      "source": [
        "# ロジステック回帰\n",
        "sdg = SGDClassifier(loss='log', penalty='none', max_iter=1000, fit_intercept=True, random_state=1234, tol=1e-3)\n",
        "fit_predict( \"ロジスティック回帰\", sdg, X_train, y_train, X_test, y_test )\n",
        "fit_predict( \"ロジスティック回帰\", sdg, X_train2, y_train, X_test2, y_test )\n"
      ],
      "execution_count": 17,
      "outputs": [
        {
          "output_type": "stream",
          "text": [
            "/usr/local/lib/python3.6/dist-packages/sklearn/utils/validation.py:760: DataConversionWarning: A column-vector y was passed when a 1d array was expected. Please change the shape of y to (n_samples, ), for example using ravel().\n",
            "  y = column_or_1d(y, warn=True)\n"
          ],
          "name": "stderr"
        },
        {
          "output_type": "display_data",
          "data": {
            "application/vnd.google.colaboratory.intrinsic+json": {
              "type": "string"
            },
            "text/plain": [
              "'★ロジスティック回帰（説明変数：8個）の訓練誤差'"
            ]
          },
          "metadata": {
            "tags": []
          }
        },
        {
          "output_type": "display_data",
          "data": {
            "application/vnd.google.colaboratory.intrinsic+json": {
              "type": "string"
            },
            "text/plain": [
              "'   ・対数尤度 = -14.405'"
            ]
          },
          "metadata": {
            "tags": []
          }
        },
        {
          "output_type": "display_data",
          "data": {
            "application/vnd.google.colaboratory.intrinsic+json": {
              "type": "string"
            },
            "text/plain": [
              "'   ・正答率   = 58.293%'"
            ]
          },
          "metadata": {
            "tags": []
          }
        },
        {
          "output_type": "display_data",
          "data": {
            "application/vnd.google.colaboratory.intrinsic+json": {
              "type": "string"
            },
            "text/plain": [
              "'★ロジスティック回帰（説明変数：8個）の汎化誤差'"
            ]
          },
          "metadata": {
            "tags": []
          }
        },
        {
          "output_type": "display_data",
          "data": {
            "application/vnd.google.colaboratory.intrinsic+json": {
              "type": "string"
            },
            "text/plain": [
              "'   ・対数尤度 = -14.273'"
            ]
          },
          "metadata": {
            "tags": []
          }
        },
        {
          "output_type": "display_data",
          "data": {
            "application/vnd.google.colaboratory.intrinsic+json": {
              "type": "string"
            },
            "text/plain": [
              "'   ・正答率   = 58.675%'"
            ]
          },
          "metadata": {
            "tags": []
          }
        },
        {
          "output_type": "stream",
          "text": [
            "/usr/local/lib/python3.6/dist-packages/sklearn/utils/validation.py:760: DataConversionWarning: A column-vector y was passed when a 1d array was expected. Please change the shape of y to (n_samples, ), for example using ravel().\n",
            "  y = column_or_1d(y, warn=True)\n"
          ],
          "name": "stderr"
        },
        {
          "output_type": "display_data",
          "data": {
            "application/vnd.google.colaboratory.intrinsic+json": {
              "type": "string"
            },
            "text/plain": [
              "'★ロジスティック回帰（説明変数：5個）の訓練誤差'"
            ]
          },
          "metadata": {
            "tags": []
          }
        },
        {
          "output_type": "display_data",
          "data": {
            "application/vnd.google.colaboratory.intrinsic+json": {
              "type": "string"
            },
            "text/plain": [
              "'   ・対数尤度 = -18.448'"
            ]
          },
          "metadata": {
            "tags": []
          }
        },
        {
          "output_type": "display_data",
          "data": {
            "application/vnd.google.colaboratory.intrinsic+json": {
              "type": "string"
            },
            "text/plain": [
              "'   ・正答率   = 46.588%'"
            ]
          },
          "metadata": {
            "tags": []
          }
        },
        {
          "output_type": "display_data",
          "data": {
            "application/vnd.google.colaboratory.intrinsic+json": {
              "type": "string"
            },
            "text/plain": [
              "'★ロジスティック回帰（説明変数：5個）の汎化誤差'"
            ]
          },
          "metadata": {
            "tags": []
          }
        },
        {
          "output_type": "display_data",
          "data": {
            "application/vnd.google.colaboratory.intrinsic+json": {
              "type": "string"
            },
            "text/plain": [
              "'   ・対数尤度 = -18.495'"
            ]
          },
          "metadata": {
            "tags": []
          }
        },
        {
          "output_type": "display_data",
          "data": {
            "application/vnd.google.colaboratory.intrinsic+json": {
              "type": "string"
            },
            "text/plain": [
              "'   ・正答率   = 46.452%'"
            ]
          },
          "metadata": {
            "tags": []
          }
        }
      ]
    },
    {
      "cell_type": "code",
      "metadata": {
        "id": "-oSSt4pIwnNS",
        "outputId": "7f1bee0d-4efc-46ef-a5c0-c42092727dde",
        "colab": {
          "base_uri": "https://localhost:8080/",
          "height": 321
        }
      },
      "source": [
        "# ランダムフォレスト\n",
        "rndf = RandomForestClassifier(n_estimators=100, max_depth=5, criterion=\"entropy\",\n",
        "                             min_samples_leaf=5, min_samples_split=4, random_state=1234)\n",
        "\n",
        "fit_predict( \"ランダムフォレスト\", rndf, X_train, y_train, X_test, y_test )\n",
        "fit_predict( \"ランダムフォレスト\", rndf, X_train2, y_train, X_test2, y_test )\n"
      ],
      "execution_count": 18,
      "outputs": [
        {
          "output_type": "stream",
          "text": [
            "/usr/local/lib/python3.6/dist-packages/ipykernel_launcher.py:11: DataConversionWarning: A column-vector y was passed when a 1d array was expected. Please change the shape of y to (n_samples,), for example using ravel().\n",
            "  # This is added back by InteractiveShellApp.init_path()\n"
          ],
          "name": "stderr"
        },
        {
          "output_type": "display_data",
          "data": {
            "application/vnd.google.colaboratory.intrinsic+json": {
              "type": "string"
            },
            "text/plain": [
              "'★ランダムフォレスト（説明変数：8個）の訓練誤差'"
            ]
          },
          "metadata": {
            "tags": []
          }
        },
        {
          "output_type": "display_data",
          "data": {
            "application/vnd.google.colaboratory.intrinsic+json": {
              "type": "string"
            },
            "text/plain": [
              "'   ・対数尤度 = -11.677'"
            ]
          },
          "metadata": {
            "tags": []
          }
        },
        {
          "output_type": "display_data",
          "data": {
            "application/vnd.google.colaboratory.intrinsic+json": {
              "type": "string"
            },
            "text/plain": [
              "'   ・正答率   = 66.191%'"
            ]
          },
          "metadata": {
            "tags": []
          }
        },
        {
          "output_type": "display_data",
          "data": {
            "application/vnd.google.colaboratory.intrinsic+json": {
              "type": "string"
            },
            "text/plain": [
              "'★ランダムフォレスト（説明変数：8個）の汎化誤差'"
            ]
          },
          "metadata": {
            "tags": []
          }
        },
        {
          "output_type": "display_data",
          "data": {
            "application/vnd.google.colaboratory.intrinsic+json": {
              "type": "string"
            },
            "text/plain": [
              "'   ・対数尤度 = -11.588'"
            ]
          },
          "metadata": {
            "tags": []
          }
        },
        {
          "output_type": "display_data",
          "data": {
            "application/vnd.google.colaboratory.intrinsic+json": {
              "type": "string"
            },
            "text/plain": [
              "'   ・正答率   = 66.451%'"
            ]
          },
          "metadata": {
            "tags": []
          }
        },
        {
          "output_type": "stream",
          "text": [
            "/usr/local/lib/python3.6/dist-packages/ipykernel_launcher.py:11: DataConversionWarning: A column-vector y was passed when a 1d array was expected. Please change the shape of y to (n_samples,), for example using ravel().\n",
            "  # This is added back by InteractiveShellApp.init_path()\n"
          ],
          "name": "stderr"
        },
        {
          "output_type": "display_data",
          "data": {
            "application/vnd.google.colaboratory.intrinsic+json": {
              "type": "string"
            },
            "text/plain": [
              "'★ランダムフォレスト（説明変数：5個）の訓練誤差'"
            ]
          },
          "metadata": {
            "tags": []
          }
        },
        {
          "output_type": "display_data",
          "data": {
            "application/vnd.google.colaboratory.intrinsic+json": {
              "type": "string"
            },
            "text/plain": [
              "'   ・対数尤度 = -11.756'"
            ]
          },
          "metadata": {
            "tags": []
          }
        },
        {
          "output_type": "display_data",
          "data": {
            "application/vnd.google.colaboratory.intrinsic+json": {
              "type": "string"
            },
            "text/plain": [
              "'   ・正答率   = 65.964%'"
            ]
          },
          "metadata": {
            "tags": []
          }
        },
        {
          "output_type": "display_data",
          "data": {
            "application/vnd.google.colaboratory.intrinsic+json": {
              "type": "string"
            },
            "text/plain": [
              "'★ランダムフォレスト（説明変数：5個）の汎化誤差'"
            ]
          },
          "metadata": {
            "tags": []
          }
        },
        {
          "output_type": "display_data",
          "data": {
            "application/vnd.google.colaboratory.intrinsic+json": {
              "type": "string"
            },
            "text/plain": [
              "'   ・対数尤度 = -11.645'"
            ]
          },
          "metadata": {
            "tags": []
          }
        },
        {
          "output_type": "display_data",
          "data": {
            "application/vnd.google.colaboratory.intrinsic+json": {
              "type": "string"
            },
            "text/plain": [
              "'   ・正答率   = 66.283%'"
            ]
          },
          "metadata": {
            "tags": []
          }
        }
      ]
    },
    {
      "cell_type": "code",
      "metadata": {
        "id": "e9cBHeXH4sUz",
        "outputId": "c59864e5-1993-4398-84bc-dec92c9ee3ee",
        "colab": {
          "base_uri": "https://localhost:8080/",
          "height": 850
        }
      },
      "source": [
        "# アダブーストの説明変数の重要度を出力する\n",
        "def display_importance( model, columns ):\n",
        "  # scikit-learnで算出される重要度は、ある説明変数による不純度の減少量合計である。\n",
        "  display(model.feature_importances_)\n",
        "  pd.DataFrame(model.feature_importances_, index=columns).plot.bar(figsize=(7,2))\n",
        "  plt.ylabel(\"Importance\")\n",
        "  plt.xlabel(\"Features\")\n",
        "  plt.show()\n",
        "\n",
        "# アダブースト\n",
        "adab = AdaBoostClassifier(DecisionTreeClassifier(\n",
        "                          max_depth=5,\n",
        "                          min_samples_leaf=5,\n",
        "                          min_samples_split=4, \n",
        "                          random_state=1234,\n",
        "                          criterion=\"entropy\"),\n",
        "                          n_estimators=100, random_state=1234)\n",
        "\n",
        "fit_predict( \"アダブースト\", adab, X_train, y_train, X_test, y_test )\n",
        "display_importance( adab, X_train_df.columns )\n",
        "\n",
        "fit_predict( \"アダブースト\", adab, X_train2, y_train, X_test2, y_test )\n",
        "display_importance( adab, X_train_df.drop(low_rank, axis=1).columns )\n"
      ],
      "execution_count": 19,
      "outputs": [
        {
          "output_type": "stream",
          "text": [
            "/usr/local/lib/python3.6/dist-packages/sklearn/utils/validation.py:760: DataConversionWarning: A column-vector y was passed when a 1d array was expected. Please change the shape of y to (n_samples, ), for example using ravel().\n",
            "  y = column_or_1d(y, warn=True)\n"
          ],
          "name": "stderr"
        },
        {
          "output_type": "display_data",
          "data": {
            "application/vnd.google.colaboratory.intrinsic+json": {
              "type": "string"
            },
            "text/plain": [
              "'★アダブースト（説明変数：8個）の訓練誤差'"
            ]
          },
          "metadata": {
            "tags": []
          }
        },
        {
          "output_type": "display_data",
          "data": {
            "application/vnd.google.colaboratory.intrinsic+json": {
              "type": "string"
            },
            "text/plain": [
              "'   ・対数尤度 = -10.415'"
            ]
          },
          "metadata": {
            "tags": []
          }
        },
        {
          "output_type": "display_data",
          "data": {
            "application/vnd.google.colaboratory.intrinsic+json": {
              "type": "string"
            },
            "text/plain": [
              "'   ・正答率   = 69.845%'"
            ]
          },
          "metadata": {
            "tags": []
          }
        },
        {
          "output_type": "display_data",
          "data": {
            "application/vnd.google.colaboratory.intrinsic+json": {
              "type": "string"
            },
            "text/plain": [
              "'★アダブースト（説明変数：8個）の汎化誤差'"
            ]
          },
          "metadata": {
            "tags": []
          }
        },
        {
          "output_type": "display_data",
          "data": {
            "application/vnd.google.colaboratory.intrinsic+json": {
              "type": "string"
            },
            "text/plain": [
              "'   ・対数尤度 = -10.980'"
            ]
          },
          "metadata": {
            "tags": []
          }
        },
        {
          "output_type": "display_data",
          "data": {
            "application/vnd.google.colaboratory.intrinsic+json": {
              "type": "string"
            },
            "text/plain": [
              "'   ・正答率   = 68.211%'"
            ]
          },
          "metadata": {
            "tags": []
          }
        },
        {
          "output_type": "display_data",
          "data": {
            "text/plain": [
              "array([0.13768192, 0.31205819, 0.10303817, 0.11841824, 0.14130133,\n",
              "       0.12675716, 0.01919361, 0.0415514 ])"
            ]
          },
          "metadata": {
            "tags": []
          }
        },
        {
          "output_type": "display_data",
          "data": {
            "image/png": "[encoded data removed]",
            "text/plain": [
              "<Figure size 504x144 with 1 Axes>"
            ]
          },
          "metadata": {
            "tags": [],
            "needs_background": "light"
          }
        },
        {
          "output_type": "stream",
          "text": [
            "/usr/local/lib/python3.6/dist-packages/sklearn/utils/validation.py:760: DataConversionWarning: A column-vector y was passed when a 1d array was expected. Please change the shape of y to (n_samples, ), for example using ravel().\n",
            "  y = column_or_1d(y, warn=True)\n"
          ],
          "name": "stderr"
        },
        {
          "output_type": "display_data",
          "data": {
            "application/vnd.google.colaboratory.intrinsic+json": {
              "type": "string"
            },
            "text/plain": [
              "'★アダブースト（説明変数：5個）の訓練誤差'"
            ]
          },
          "metadata": {
            "tags": []
          }
        },
        {
          "output_type": "display_data",
          "data": {
            "application/vnd.google.colaboratory.intrinsic+json": {
              "type": "string"
            },
            "text/plain": [
              "'   ・対数尤度 = -10.539'"
            ]
          },
          "metadata": {
            "tags": []
          }
        },
        {
          "output_type": "display_data",
          "data": {
            "application/vnd.google.colaboratory.intrinsic+json": {
              "type": "string"
            },
            "text/plain": [
              "'   ・正答率   = 69.486%'"
            ]
          },
          "metadata": {
            "tags": []
          }
        },
        {
          "output_type": "display_data",
          "data": {
            "application/vnd.google.colaboratory.intrinsic+json": {
              "type": "string"
            },
            "text/plain": [
              "'★アダブースト（説明変数：5個）の汎化誤差'"
            ]
          },
          "metadata": {
            "tags": []
          }
        },
        {
          "output_type": "display_data",
          "data": {
            "application/vnd.google.colaboratory.intrinsic+json": {
              "type": "string"
            },
            "text/plain": [
              "'   ・対数尤度 = -11.039'"
            ]
          },
          "metadata": {
            "tags": []
          }
        },
        {
          "output_type": "display_data",
          "data": {
            "application/vnd.google.colaboratory.intrinsic+json": {
              "type": "string"
            },
            "text/plain": [
              "'   ・正答率   = 68.038%'"
            ]
          },
          "metadata": {
            "tags": []
          }
        },
        {
          "output_type": "display_data",
          "data": {
            "text/plain": [
              "array([0.43582577, 0.12292378, 0.14420684, 0.15402465, 0.14301895])"
            ]
          },
          "metadata": {
            "tags": []
          }
        },
        {
          "output_type": "display_data",
          "data": {
            "image/png": "[encoded data removed]",
            "text/plain": [
              "<Figure size 504x144 with 1 Axes>"
            ]
          },
          "metadata": {
            "tags": [],
            "needs_background": "light"
          }
        }
      ]
    },
    {
      "cell_type": "code",
      "metadata": {
        "id": "bGroadHyJ4ux",
        "outputId": "f648af6e-6099-4423-961d-fe964adc3036",
        "colab": {
          "base_uri": "https://localhost:8080/",
          "height": 1000
        }
      },
      "source": [
        "# アダブーストのチューニング\n",
        "def adaboost_try( X_train, y_train, X_test, y_test, depth, leaf, split, estimators ):\n",
        "  adab = AdaBoostClassifier(DecisionTreeClassifier(\n",
        "                          max_depth=depth,\n",
        "                          min_samples_leaf=leaf,\n",
        "                          min_samples_split=split, \n",
        "                          random_state=1234,\n",
        "                          criterion=\"entropy\"),\n",
        "                          n_estimators=estimators, random_state=1234)\n",
        "\n",
        "  fit_predict( \"アダブースト\", adab, X_train, y_train, X_test, y_test )\n",
        "  display_importance( adab, X_train_df.columns )\n",
        "\n",
        "adaboost_try( X_train, y_train, X_test, y_test, 5, 5, 4, 100 )\n",
        "adaboost_try( X_train, y_train, X_test, y_test, 5, 5, 5, 100 )\n",
        "adaboost_try( X_train, y_train, X_test, y_test, 4, 5, 5, 100 )\n",
        "adaboost_try( X_train, y_train, X_test, y_test, 4, 5, 5, 200 )\n",
        "adaboost_try( X_train, y_train, X_test, y_test, 4, 5, 5, 500 )\n",
        "\n"
      ],
      "execution_count": 20,
      "outputs": [
        {
          "output_type": "stream",
          "text": [
            "/usr/local/lib/python3.6/dist-packages/sklearn/utils/validation.py:760: DataConversionWarning: A column-vector y was passed when a 1d array was expected. Please change the shape of y to (n_samples, ), for example using ravel().\n",
            "  y = column_or_1d(y, warn=True)\n"
          ],
          "name": "stderr"
        },
        {
          "output_type": "display_data",
          "data": {
            "application/vnd.google.colaboratory.intrinsic+json": {
              "type": "string"
            },
            "text/plain": [
              "'★アダブースト（説明変数：8個）の訓練誤差'"
            ]
          },
          "metadata": {
            "tags": []
          }
        },
        {
          "output_type": "display_data",
          "data": {
            "application/vnd.google.colaboratory.intrinsic+json": {
              "type": "string"
            },
            "text/plain": [
              "'   ・対数尤度 = -10.415'"
            ]
          },
          "metadata": {
            "tags": []
          }
        },
        {
          "output_type": "display_data",
          "data": {
            "application/vnd.google.colaboratory.intrinsic+json": {
              "type": "string"
            },
            "text/plain": [
              "'   ・正答率   = 69.845%'"
            ]
          },
          "metadata": {
            "tags": []
          }
        },
        {
          "output_type": "display_data",
          "data": {
            "application/vnd.google.colaboratory.intrinsic+json": {
              "type": "string"
            },
            "text/plain": [
              "'★アダブースト（説明変数：8個）の汎化誤差'"
            ]
          },
          "metadata": {
            "tags": []
          }
        },
        {
          "output_type": "display_data",
          "data": {
            "application/vnd.google.colaboratory.intrinsic+json": {
              "type": "string"
            },
            "text/plain": [
              "'   ・対数尤度 = -10.980'"
            ]
          },
          "metadata": {
            "tags": []
          }
        },
        {
          "output_type": "display_data",
          "data": {
            "application/vnd.google.colaboratory.intrinsic+json": {
              "type": "string"
            },
            "text/plain": [
              "'   ・正答率   = 68.211%'"
            ]
          },
          "metadata": {
            "tags": []
          }
        },
        {
          "output_type": "display_data",
          "data": {
            "text/plain": [
              "array([0.13768192, 0.31205819, 0.10303817, 0.11841824, 0.14130133,\n",
              "       0.12675716, 0.01919361, 0.0415514 ])"
            ]
          },
          "metadata": {
            "tags": []
          }
        },
        {
          "output_type": "display_data",
          "data": {
            "image/png": "[encoded data removed]",
            "text/plain": [
              "<Figure size 504x144 with 1 Axes>"
            ]
          },
          "metadata": {
            "tags": [],
            "needs_background": "light"
          }
        },
        {
          "output_type": "stream",
          "text": [
            "/usr/local/lib/python3.6/dist-packages/sklearn/utils/validation.py:760: DataConversionWarning: A column-vector y was passed when a 1d array was expected. Please change the shape of y to (n_samples, ), for example using ravel().\n",
            "  y = column_or_1d(y, warn=True)\n"
          ],
          "name": "stderr"
        },
        {
          "output_type": "display_data",
          "data": {
            "application/vnd.google.colaboratory.intrinsic+json": {
              "type": "string"
            },
            "text/plain": [
              "'★アダブースト（説明変数：8個）の訓練誤差'"
            ]
          },
          "metadata": {
            "tags": []
          }
        },
        {
          "output_type": "display_data",
          "data": {
            "application/vnd.google.colaboratory.intrinsic+json": {
              "type": "string"
            },
            "text/plain": [
              "'   ・対数尤度 = -10.415'"
            ]
          },
          "metadata": {
            "tags": []
          }
        },
        {
          "output_type": "display_data",
          "data": {
            "application/vnd.google.colaboratory.intrinsic+json": {
              "type": "string"
            },
            "text/plain": [
              "'   ・正答率   = 69.845%'"
            ]
          },
          "metadata": {
            "tags": []
          }
        },
        {
          "output_type": "display_data",
          "data": {
            "application/vnd.google.colaboratory.intrinsic+json": {
              "type": "string"
            },
            "text/plain": [
              "'★アダブースト（説明変数：8個）の汎化誤差'"
            ]
          },
          "metadata": {
            "tags": []
          }
        },
        {
          "output_type": "display_data",
          "data": {
            "application/vnd.google.colaboratory.intrinsic+json": {
              "type": "string"
            },
            "text/plain": [
              "'   ・対数尤度 = -10.980'"
            ]
          },
          "metadata": {
            "tags": []
          }
        },
        {
          "output_type": "display_data",
          "data": {
            "application/vnd.google.colaboratory.intrinsic+json": {
              "type": "string"
            },
            "text/plain": [
              "'   ・正答率   = 68.211%'"
            ]
          },
          "metadata": {
            "tags": []
          }
        },
        {
          "output_type": "display_data",
          "data": {
            "text/plain": [
              "array([0.13768192, 0.31205819, 0.10303817, 0.11841824, 0.14130133,\n",
              "       0.12675716, 0.01919361, 0.0415514 ])"
            ]
          },
          "metadata": {
            "tags": []
          }
        },
        {
          "output_type": "display_data",
          "data": {
            "image/png": "[encoded data removed]",
            "text/plain": [
              "<Figure size 504x144 with 1 Axes>"
            ]
          },
          "metadata": {
            "tags": [],
            "needs_background": "light"
          }
        },
        {
          "output_type": "stream",
          "text": [
            "/usr/local/lib/python3.6/dist-packages/sklearn/utils/validation.py:760: DataConversionWarning: A column-vector y was passed when a 1d array was expected. Please change the shape of y to (n_samples, ), for example using ravel().\n",
            "  y = column_or_1d(y, warn=True)\n"
          ],
          "name": "stderr"
        },
        {
          "output_type": "display_data",
          "data": {
            "application/vnd.google.colaboratory.intrinsic+json": {
              "type": "string"
            },
            "text/plain": [
              "'★アダブースト（説明変数：8個）の訓練誤差'"
            ]
          },
          "metadata": {
            "tags": []
          }
        },
        {
          "output_type": "display_data",
          "data": {
            "application/vnd.google.colaboratory.intrinsic+json": {
              "type": "string"
            },
            "text/plain": [
              "'   ・対数尤度 = -10.613'"
            ]
          },
          "metadata": {
            "tags": []
          }
        },
        {
          "output_type": "display_data",
          "data": {
            "application/vnd.google.colaboratory.intrinsic+json": {
              "type": "string"
            },
            "text/plain": [
              "'   ・正答率   = 69.272%'"
            ]
          },
          "metadata": {
            "tags": []
          }
        },
        {
          "output_type": "display_data",
          "data": {
            "application/vnd.google.colaboratory.intrinsic+json": {
              "type": "string"
            },
            "text/plain": [
              "'★アダブースト（説明変数：8個）の汎化誤差'"
            ]
          },
          "metadata": {
            "tags": []
          }
        },
        {
          "output_type": "display_data",
          "data": {
            "application/vnd.google.colaboratory.intrinsic+json": {
              "type": "string"
            },
            "text/plain": [
              "'   ・対数尤度 = -10.900'"
            ]
          },
          "metadata": {
            "tags": []
          }
        },
        {
          "output_type": "display_data",
          "data": {
            "application/vnd.google.colaboratory.intrinsic+json": {
              "type": "string"
            },
            "text/plain": [
              "'   ・正答率   = 68.442%'"
            ]
          },
          "metadata": {
            "tags": []
          }
        },
        {
          "output_type": "display_data",
          "data": {
            "text/plain": [
              "array([0.15183062, 0.27301793, 0.08732081, 0.15032712, 0.13775961,\n",
              "       0.14962825, 0.01494128, 0.03517438])"
            ]
          },
          "metadata": {
            "tags": []
          }
        },
        {
          "output_type": "display_data",
          "data": {
            "image/png": "[encoded data removed]",
            "text/plain": [
              "<Figure size 504x144 with 1 Axes>"
            ]
          },
          "metadata": {
            "tags": [],
            "needs_background": "light"
          }
        },
        {
          "output_type": "stream",
          "text": [
            "/usr/local/lib/python3.6/dist-packages/sklearn/utils/validation.py:760: DataConversionWarning: A column-vector y was passed when a 1d array was expected. Please change the shape of y to (n_samples, ), for example using ravel().\n",
            "  y = column_or_1d(y, warn=True)\n"
          ],
          "name": "stderr"
        },
        {
          "output_type": "display_data",
          "data": {
            "application/vnd.google.colaboratory.intrinsic+json": {
              "type": "string"
            },
            "text/plain": [
              "'★アダブースト（説明変数：8個）の訓練誤差'"
            ]
          },
          "metadata": {
            "tags": []
          }
        },
        {
          "output_type": "display_data",
          "data": {
            "application/vnd.google.colaboratory.intrinsic+json": {
              "type": "string"
            },
            "text/plain": [
              "'   ・対数尤度 = -10.420'"
            ]
          },
          "metadata": {
            "tags": []
          }
        },
        {
          "output_type": "display_data",
          "data": {
            "application/vnd.google.colaboratory.intrinsic+json": {
              "type": "string"
            },
            "text/plain": [
              "'   ・正答率   = 69.831%'"
            ]
          },
          "metadata": {
            "tags": []
          }
        },
        {
          "output_type": "display_data",
          "data": {
            "application/vnd.google.colaboratory.intrinsic+json": {
              "type": "string"
            },
            "text/plain": [
              "'★アダブースト（説明変数：8個）の汎化誤差'"
            ]
          },
          "metadata": {
            "tags": []
          }
        },
        {
          "output_type": "display_data",
          "data": {
            "application/vnd.google.colaboratory.intrinsic+json": {
              "type": "string"
            },
            "text/plain": [
              "'   ・対数尤度 = -10.921'"
            ]
          },
          "metadata": {
            "tags": []
          }
        },
        {
          "output_type": "display_data",
          "data": {
            "application/vnd.google.colaboratory.intrinsic+json": {
              "type": "string"
            },
            "text/plain": [
              "'   ・正答率   = 68.382%'"
            ]
          },
          "metadata": {
            "tags": []
          }
        },
        {
          "output_type": "display_data",
          "data": {
            "text/plain": [
              "array([0.15861165, 0.32457652, 0.0920256 , 0.12744021, 0.12448657,\n",
              "       0.12126024, 0.01584382, 0.03575539])"
            ]
          },
          "metadata": {
            "tags": []
          }
        },
        {
          "output_type": "display_data",
          "data": {
            "image/png": "[encoded data removed]",
            "text/plain": [
              "<Figure size 504x144 with 1 Axes>"
            ]
          },
          "metadata": {
            "tags": [],
            "needs_background": "light"
          }
        },
        {
          "output_type": "stream",
          "text": [
            "/usr/local/lib/python3.6/dist-packages/sklearn/utils/validation.py:760: DataConversionWarning: A column-vector y was passed when a 1d array was expected. Please change the shape of y to (n_samples, ), for example using ravel().\n",
            "  y = column_or_1d(y, warn=True)\n"
          ],
          "name": "stderr"
        },
        {
          "output_type": "display_data",
          "data": {
            "application/vnd.google.colaboratory.intrinsic+json": {
              "type": "string"
            },
            "text/plain": [
              "'★アダブースト（説明変数：8個）の訓練誤差'"
            ]
          },
          "metadata": {
            "tags": []
          }
        },
        {
          "output_type": "display_data",
          "data": {
            "application/vnd.google.colaboratory.intrinsic+json": {
              "type": "string"
            },
            "text/plain": [
              "'   ・対数尤度 = -10.031'"
            ]
          },
          "metadata": {
            "tags": []
          }
        },
        {
          "output_type": "display_data",
          "data": {
            "application/vnd.google.colaboratory.intrinsic+json": {
              "type": "string"
            },
            "text/plain": [
              "'   ・正答率   = 70.959%'"
            ]
          },
          "metadata": {
            "tags": []
          }
        },
        {
          "output_type": "display_data",
          "data": {
            "application/vnd.google.colaboratory.intrinsic+json": {
              "type": "string"
            },
            "text/plain": [
              "'★アダブースト（説明変数：8個）の汎化誤差'"
            ]
          },
          "metadata": {
            "tags": []
          }
        },
        {
          "output_type": "display_data",
          "data": {
            "application/vnd.google.colaboratory.intrinsic+json": {
              "type": "string"
            },
            "text/plain": [
              "'   ・対数尤度 = -11.070'"
            ]
          },
          "metadata": {
            "tags": []
          }
        },
        {
          "output_type": "display_data",
          "data": {
            "application/vnd.google.colaboratory.intrinsic+json": {
              "type": "string"
            },
            "text/plain": [
              "'   ・正答率   = 67.949%'"
            ]
          },
          "metadata": {
            "tags": []
          }
        },
        {
          "output_type": "display_data",
          "data": {
            "text/plain": [
              "array([0.14969166, 0.36164637, 0.10301757, 0.10556577, 0.12423697,\n",
              "       0.10807379, 0.01545092, 0.03231695])"
            ]
          },
          "metadata": {
            "tags": []
          }
        },
        {
          "output_type": "display_data",
          "data": {
            "image/png": "[encoded data removed]",
            "text/plain": [
              "<Figure size 504x144 with 1 Axes>"
            ]
          },
          "metadata": {
            "tags": [],
            "needs_background": "light"
          }
        }
      ]
    },
    {
      "cell_type": "code",
      "metadata": {
        "id": "-jp2tJqs2ulT"
      },
      "source": [
        ""
      ],
      "execution_count": null,
      "outputs": []
    },
    {
      "cell_type": "markdown",
      "metadata": {
        "id": "aNRNROAxfiFE"
      },
      "source": [
        "私が試した中で、一番成績が良かった成績は、以下のものです。\n",
        ">　★アダブースト（説明変数：8個）の汎化誤差\n",
        ">   ・対数尤度 = -10.900\n",
        ">   ・正答率   = 68.442%"
      ]
    },
    {
      "cell_type": "code",
      "metadata": {
        "id": "g07Vl7j-4DcR"
      },
      "source": [
        ""
      ],
      "execution_count": null,
      "outputs": []
    }
  ]
}